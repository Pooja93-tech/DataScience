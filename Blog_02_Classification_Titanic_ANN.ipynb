{
 "cells": [
  {
   "cell_type": "code",
   "execution_count": 2,
   "metadata": {},
   "outputs": [],
   "source": [
    "    class color:\n",
    "       PURPLE = '\\033[95m'\n",
    "       CYAN = '\\033[96m'\n",
    "       DARKCYAN = '\\033[36m'\n",
    "       BLUE = '\\033[94m'\n",
    "       GREEN = '\\033[92m'\n",
    "       YELLOW = '\\033[93m'\n",
    "       RED = '\\033[91m'\n",
    "       BOLD = '\\033[1m'\n",
    "       UNDERLINE = '\\033[4m'\n",
    "       END = '\\033[0m'\n"
   ]
  },
  {
   "cell_type": "code",
   "execution_count": 3,
   "metadata": {},
   "outputs": [],
   "source": [
    "\n",
    "import pandas as pd\n",
    "from pandas import DataFrame\n",
    "import numpy as np\n",
    "import matplotlib.pyplot as plt\n",
    "%matplotlib inline\n",
    "import seaborn as sns\n",
    "from sklearn.model_selection import GridSearchCV\n",
    "from sklearn.metrics import log_loss,roc_auc_score,precision_score,f1_score,recall_score,roc_curve,auc\n",
    "from sklearn.model_selection import train_test_split\n",
    "from sklearn.metrics import classification_report, confusion_matrix,accuracy_score,fbeta_score,matthews_corrcoef\n",
    "from sklearn import metrics\n",
    "from sklearn.metrics import log_loss\n",
    "from imblearn.metrics import geometric_mean_score\n",
    "import warnings\n",
    "import re\n",
    "import sklearn\n",
    "import seaborn as sns\n",
    "import matplotlib.pyplot as plt\n",
    "warnings.filterwarnings('ignore')\n",
    "from sklearn.model_selection import StratifiedKFold\n",
    "from sklearn.linear_model import LogisticRegression\n",
    "from sklearn.ensemble import RandomForestClassifier,VotingClassifier\n",
    "from sklearn.calibration import CalibratedClassifierCV\n",
    "from sklearn.neural_network import MLPClassifier\n",
    "from sklearn.tree import DecisionTreeClassifier\n",
    "from sklearn.neighbors import KNeighborsClassifier\n",
    "from sklearn.discriminant_analysis import LinearDiscriminantAnalysis\n",
    "from sklearn.naive_bayes import GaussianNB\n",
    "from sklearn.ensemble import AdaBoostClassifier\n",
    "from sklearn.ensemble import GradientBoostingClassifier\n",
    "from sklearn.ensemble import RandomForestClassifier\n",
    "from sklearn.ensemble import ExtraTreesClassifier\n",
    "from sklearn.linear_model import SGDClassifier\n",
    "from sklearn.svm import SVC \n",
    "import xgboost as xgb\n",
    "from vecstack import stacking\n",
    "from scipy import stats\n",
    "import os\n"
   ]
  },
  {
   "cell_type": "code",
   "execution_count": 4,
   "metadata": {},
   "outputs": [],
   "source": [
    "np.random.seed(42)"
   ]
  },
  {
   "cell_type": "markdown",
   "metadata": {},
   "source": [
    "<h1> Data Report </h1>"
   ]
  },
  {
   "cell_type": "markdown",
   "metadata": {},
   "source": [
    "<h2>Acquire data</h2>"
   ]
  },
  {
   "cell_type": "code",
   "execution_count": 5,
   "metadata": {
    "scrolled": true
   },
   "outputs": [
    {
     "name": "stdout",
     "output_type": "stream",
     "text": [
      "\u001b[1m\u001b[95mPreview of the sample data :\n"
     ]
    },
    {
     "data": {
      "text/html": [
       "<div>\n",
       "<style scoped>\n",
       "    .dataframe tbody tr th:only-of-type {\n",
       "        vertical-align: middle;\n",
       "    }\n",
       "\n",
       "    .dataframe tbody tr th {\n",
       "        vertical-align: top;\n",
       "    }\n",
       "\n",
       "    .dataframe thead th {\n",
       "        text-align: right;\n",
       "    }\n",
       "</style>\n",
       "<table border=\"1\" class=\"dataframe\">\n",
       "  <thead>\n",
       "    <tr style=\"text-align: right;\">\n",
       "      <th></th>\n",
       "      <th>PassengerId</th>\n",
       "      <th>Survived</th>\n",
       "      <th>Pclass</th>\n",
       "      <th>Name</th>\n",
       "      <th>Sex</th>\n",
       "      <th>Age</th>\n",
       "      <th>SibSp</th>\n",
       "      <th>Parch</th>\n",
       "      <th>Ticket</th>\n",
       "      <th>Fare</th>\n",
       "      <th>Cabin</th>\n",
       "      <th>Embarked</th>\n",
       "    </tr>\n",
       "  </thead>\n",
       "  <tbody>\n",
       "    <tr>\n",
       "      <th>0</th>\n",
       "      <td>1</td>\n",
       "      <td>0</td>\n",
       "      <td>3</td>\n",
       "      <td>Braund, Mr. Owen Harris</td>\n",
       "      <td>male</td>\n",
       "      <td>22.0</td>\n",
       "      <td>1</td>\n",
       "      <td>0</td>\n",
       "      <td>A/5 21171</td>\n",
       "      <td>7.2500</td>\n",
       "      <td>NaN</td>\n",
       "      <td>S</td>\n",
       "    </tr>\n",
       "    <tr>\n",
       "      <th>1</th>\n",
       "      <td>2</td>\n",
       "      <td>1</td>\n",
       "      <td>1</td>\n",
       "      <td>Cumings, Mrs. John Bradley (Florence Briggs Th...</td>\n",
       "      <td>female</td>\n",
       "      <td>38.0</td>\n",
       "      <td>1</td>\n",
       "      <td>0</td>\n",
       "      <td>PC 17599</td>\n",
       "      <td>71.2833</td>\n",
       "      <td>C85</td>\n",
       "      <td>C</td>\n",
       "    </tr>\n",
       "    <tr>\n",
       "      <th>2</th>\n",
       "      <td>3</td>\n",
       "      <td>1</td>\n",
       "      <td>3</td>\n",
       "      <td>Heikkinen, Miss. Laina</td>\n",
       "      <td>female</td>\n",
       "      <td>26.0</td>\n",
       "      <td>0</td>\n",
       "      <td>0</td>\n",
       "      <td>STON/O2. 3101282</td>\n",
       "      <td>7.9250</td>\n",
       "      <td>NaN</td>\n",
       "      <td>S</td>\n",
       "    </tr>\n",
       "    <tr>\n",
       "      <th>3</th>\n",
       "      <td>4</td>\n",
       "      <td>1</td>\n",
       "      <td>1</td>\n",
       "      <td>Futrelle, Mrs. Jacques Heath (Lily May Peel)</td>\n",
       "      <td>female</td>\n",
       "      <td>35.0</td>\n",
       "      <td>1</td>\n",
       "      <td>0</td>\n",
       "      <td>113803</td>\n",
       "      <td>53.1000</td>\n",
       "      <td>C123</td>\n",
       "      <td>S</td>\n",
       "    </tr>\n",
       "    <tr>\n",
       "      <th>4</th>\n",
       "      <td>5</td>\n",
       "      <td>0</td>\n",
       "      <td>3</td>\n",
       "      <td>Allen, Mr. William Henry</td>\n",
       "      <td>male</td>\n",
       "      <td>35.0</td>\n",
       "      <td>0</td>\n",
       "      <td>0</td>\n",
       "      <td>373450</td>\n",
       "      <td>8.0500</td>\n",
       "      <td>NaN</td>\n",
       "      <td>S</td>\n",
       "    </tr>\n",
       "  </tbody>\n",
       "</table>\n",
       "</div>"
      ],
      "text/plain": [
       "   PassengerId  Survived  Pclass  \\\n",
       "0            1         0       3   \n",
       "1            2         1       1   \n",
       "2            3         1       3   \n",
       "3            4         1       1   \n",
       "4            5         0       3   \n",
       "\n",
       "                                                Name     Sex   Age  SibSp  \\\n",
       "0                            Braund, Mr. Owen Harris    male  22.0      1   \n",
       "1  Cumings, Mrs. John Bradley (Florence Briggs Th...  female  38.0      1   \n",
       "2                             Heikkinen, Miss. Laina  female  26.0      0   \n",
       "3       Futrelle, Mrs. Jacques Heath (Lily May Peel)  female  35.0      1   \n",
       "4                           Allen, Mr. William Henry    male  35.0      0   \n",
       "\n",
       "   Parch            Ticket     Fare Cabin Embarked  \n",
       "0      0         A/5 21171   7.2500   NaN        S  \n",
       "1      0          PC 17599  71.2833   C85        C  \n",
       "2      0  STON/O2. 3101282   7.9250   NaN        S  \n",
       "3      0            113803  53.1000  C123        S  \n",
       "4      0            373450   8.0500   NaN        S  "
      ]
     },
     "execution_count": 5,
     "metadata": {},
     "output_type": "execute_result"
    }
   ],
   "source": [
    "print(color.BOLD+color.PURPLE+'Preview of the sample data :')\n",
    "#Reading train and test data \n",
    "\n",
    "Train=pd.read_csv('Titanic_Train.csv')\n",
    "Train.head()"
   ]
  },
  {
   "cell_type": "code",
   "execution_count": 6,
   "metadata": {},
   "outputs": [
    {
     "name": "stdout",
     "output_type": "stream",
     "text": [
      "\u001b[1m\u001b[95mPreview of the sample data :\n"
     ]
    },
    {
     "data": {
      "text/html": [
       "<div>\n",
       "<style scoped>\n",
       "    .dataframe tbody tr th:only-of-type {\n",
       "        vertical-align: middle;\n",
       "    }\n",
       "\n",
       "    .dataframe tbody tr th {\n",
       "        vertical-align: top;\n",
       "    }\n",
       "\n",
       "    .dataframe thead th {\n",
       "        text-align: right;\n",
       "    }\n",
       "</style>\n",
       "<table border=\"1\" class=\"dataframe\">\n",
       "  <thead>\n",
       "    <tr style=\"text-align: right;\">\n",
       "      <th></th>\n",
       "      <th>PassengerId</th>\n",
       "      <th>Pclass</th>\n",
       "      <th>Name</th>\n",
       "      <th>Sex</th>\n",
       "      <th>Age</th>\n",
       "      <th>SibSp</th>\n",
       "      <th>Parch</th>\n",
       "      <th>Ticket</th>\n",
       "      <th>Fare</th>\n",
       "      <th>Cabin</th>\n",
       "      <th>Embarked</th>\n",
       "    </tr>\n",
       "  </thead>\n",
       "  <tbody>\n",
       "    <tr>\n",
       "      <th>413</th>\n",
       "      <td>1305</td>\n",
       "      <td>3</td>\n",
       "      <td>Spector, Mr. Woolf</td>\n",
       "      <td>male</td>\n",
       "      <td>NaN</td>\n",
       "      <td>0</td>\n",
       "      <td>0</td>\n",
       "      <td>A.5. 3236</td>\n",
       "      <td>8.0500</td>\n",
       "      <td>NaN</td>\n",
       "      <td>S</td>\n",
       "    </tr>\n",
       "    <tr>\n",
       "      <th>414</th>\n",
       "      <td>1306</td>\n",
       "      <td>1</td>\n",
       "      <td>Oliva y Ocana, Dona. Fermina</td>\n",
       "      <td>female</td>\n",
       "      <td>39.0</td>\n",
       "      <td>0</td>\n",
       "      <td>0</td>\n",
       "      <td>PC 17758</td>\n",
       "      <td>108.9000</td>\n",
       "      <td>C105</td>\n",
       "      <td>C</td>\n",
       "    </tr>\n",
       "    <tr>\n",
       "      <th>415</th>\n",
       "      <td>1307</td>\n",
       "      <td>3</td>\n",
       "      <td>Saether, Mr. Simon Sivertsen</td>\n",
       "      <td>male</td>\n",
       "      <td>38.5</td>\n",
       "      <td>0</td>\n",
       "      <td>0</td>\n",
       "      <td>SOTON/O.Q. 3101262</td>\n",
       "      <td>7.2500</td>\n",
       "      <td>NaN</td>\n",
       "      <td>S</td>\n",
       "    </tr>\n",
       "    <tr>\n",
       "      <th>416</th>\n",
       "      <td>1308</td>\n",
       "      <td>3</td>\n",
       "      <td>Ware, Mr. Frederick</td>\n",
       "      <td>male</td>\n",
       "      <td>NaN</td>\n",
       "      <td>0</td>\n",
       "      <td>0</td>\n",
       "      <td>359309</td>\n",
       "      <td>8.0500</td>\n",
       "      <td>NaN</td>\n",
       "      <td>S</td>\n",
       "    </tr>\n",
       "    <tr>\n",
       "      <th>417</th>\n",
       "      <td>1309</td>\n",
       "      <td>3</td>\n",
       "      <td>Peter, Master. Michael J</td>\n",
       "      <td>male</td>\n",
       "      <td>NaN</td>\n",
       "      <td>1</td>\n",
       "      <td>1</td>\n",
       "      <td>2668</td>\n",
       "      <td>22.3583</td>\n",
       "      <td>NaN</td>\n",
       "      <td>C</td>\n",
       "    </tr>\n",
       "  </tbody>\n",
       "</table>\n",
       "</div>"
      ],
      "text/plain": [
       "     PassengerId  Pclass                          Name     Sex   Age  SibSp  \\\n",
       "413         1305       3            Spector, Mr. Woolf    male   NaN      0   \n",
       "414         1306       1  Oliva y Ocana, Dona. Fermina  female  39.0      0   \n",
       "415         1307       3  Saether, Mr. Simon Sivertsen    male  38.5      0   \n",
       "416         1308       3           Ware, Mr. Frederick    male   NaN      0   \n",
       "417         1309       3      Peter, Master. Michael J    male   NaN      1   \n",
       "\n",
       "     Parch              Ticket      Fare Cabin Embarked  \n",
       "413      0           A.5. 3236    8.0500   NaN        S  \n",
       "414      0            PC 17758  108.9000  C105        C  \n",
       "415      0  SOTON/O.Q. 3101262    7.2500   NaN        S  \n",
       "416      0              359309    8.0500   NaN        S  \n",
       "417      1                2668   22.3583   NaN        C  "
      ]
     },
     "execution_count": 6,
     "metadata": {},
     "output_type": "execute_result"
    }
   ],
   "source": [
    "print(color.BOLD+color.PURPLE+'Preview of the sample data :')\n",
    "#Reading train and test data \n",
    "\n",
    "Test=pd.read_csv('Titanic_Test.csv')\n",
    "Test.tail()"
   ]
  },
  {
   "cell_type": "code",
   "execution_count": 7,
   "metadata": {},
   "outputs": [
    {
     "name": "stdout",
     "output_type": "stream",
     "text": [
      "\u001b[1m\u001b[95mDataset has 891 rows and 12 columns.\n"
     ]
    }
   ],
   "source": [
    "print(color.BOLD+color.PURPLE+'Dataset has',Train.shape[0],'rows and',Train.shape[1],'columns.')"
   ]
  },
  {
   "cell_type": "code",
   "execution_count": 8,
   "metadata": {},
   "outputs": [
    {
     "name": "stdout",
     "output_type": "stream",
     "text": [
      "\u001b[1m\u001b[95mDataset has 418 rows and 11 columns.\n"
     ]
    }
   ],
   "source": [
    "print(color.BOLD+color.PURPLE+'Dataset has',Test.shape[0],'rows and',Test.shape[1],'columns.')"
   ]
  },
  {
   "cell_type": "markdown",
   "metadata": {},
   "source": [
    "<h2> Data Inspection </h2>"
   ]
  },
  {
   "cell_type": "code",
   "execution_count": 9,
   "metadata": {},
   "outputs": [
    {
     "name": "stdout",
     "output_type": "stream",
     "text": [
      "\u001b[1m\u001b[95mDataset has 1309 rows and 12 columns.\n"
     ]
    }
   ],
   "source": [
    "frames = [Train, Test]\n",
    "df1=pd.concat(frames)\n",
    "df1.head()\n",
    "print(color.BOLD+color.PURPLE+'Dataset has',df1.shape[0],'rows and',df1.shape[1],'columns.')"
   ]
  },
  {
   "cell_type": "code",
   "execution_count": 10,
   "metadata": {
    "scrolled": true
   },
   "outputs": [
    {
     "name": "stdout",
     "output_type": "stream",
     "text": [
      "<class 'pandas.core.frame.DataFrame'>\n",
      "RangeIndex: 891 entries, 0 to 890\n",
      "Data columns (total 12 columns):\n",
      " #   Column       Non-Null Count  Dtype  \n",
      "---  ------       --------------  -----  \n",
      " 0   PassengerId  891 non-null    int64  \n",
      " 1   Survived     891 non-null    int64  \n",
      " 2   Pclass       891 non-null    int64  \n",
      " 3   Name         891 non-null    object \n",
      " 4   Sex          891 non-null    object \n",
      " 5   Age          714 non-null    float64\n",
      " 6   SibSp        891 non-null    int64  \n",
      " 7   Parch        891 non-null    int64  \n",
      " 8   Ticket       891 non-null    object \n",
      " 9   Fare         891 non-null    float64\n",
      " 10  Cabin        204 non-null    object \n",
      " 11  Embarked     889 non-null    object \n",
      "dtypes: float64(2), int64(5), object(5)\n",
      "memory usage: 83.7+ KB\n"
     ]
    }
   ],
   "source": [
    "Train.info()"
   ]
  },
  {
   "cell_type": "code",
   "execution_count": 11,
   "metadata": {},
   "outputs": [
    {
     "name": "stdout",
     "output_type": "stream",
     "text": [
      "<class 'pandas.core.frame.DataFrame'>\n",
      "RangeIndex: 418 entries, 0 to 417\n",
      "Data columns (total 11 columns):\n",
      " #   Column       Non-Null Count  Dtype  \n",
      "---  ------       --------------  -----  \n",
      " 0   PassengerId  418 non-null    int64  \n",
      " 1   Pclass       418 non-null    int64  \n",
      " 2   Name         418 non-null    object \n",
      " 3   Sex          418 non-null    object \n",
      " 4   Age          332 non-null    float64\n",
      " 5   SibSp        418 non-null    int64  \n",
      " 6   Parch        418 non-null    int64  \n",
      " 7   Ticket       418 non-null    object \n",
      " 8   Fare         417 non-null    float64\n",
      " 9   Cabin        91 non-null     object \n",
      " 10  Embarked     418 non-null    object \n",
      "dtypes: float64(2), int64(4), object(5)\n",
      "memory usage: 36.0+ KB\n"
     ]
    }
   ],
   "source": [
    "Test.info()"
   ]
  },
  {
   "cell_type": "code",
   "execution_count": 12,
   "metadata": {},
   "outputs": [
    {
     "name": "stdout",
     "output_type": "stream",
     "text": [
      "<class 'pandas.core.frame.DataFrame'>\n",
      "Int64Index: 1309 entries, 0 to 417\n",
      "Data columns (total 12 columns):\n",
      " #   Column       Non-Null Count  Dtype  \n",
      "---  ------       --------------  -----  \n",
      " 0   PassengerId  1309 non-null   int64  \n",
      " 1   Survived     891 non-null    float64\n",
      " 2   Pclass       1309 non-null   int64  \n",
      " 3   Name         1309 non-null   object \n",
      " 4   Sex          1309 non-null   object \n",
      " 5   Age          1046 non-null   float64\n",
      " 6   SibSp        1309 non-null   int64  \n",
      " 7   Parch        1309 non-null   int64  \n",
      " 8   Ticket       1309 non-null   object \n",
      " 9   Fare         1308 non-null   float64\n",
      " 10  Cabin        295 non-null    object \n",
      " 11  Embarked     1307 non-null   object \n",
      "dtypes: float64(3), int64(4), object(5)\n",
      "memory usage: 132.9+ KB\n"
     ]
    }
   ],
   "source": [
    "df1.info()"
   ]
  },
  {
   "cell_type": "code",
   "execution_count": 13,
   "metadata": {
    "scrolled": true
   },
   "outputs": [
    {
     "name": "stdout",
     "output_type": "stream",
     "text": [
      "\u001b[1m\u001b[95mCategorical features in DataSet ['Name', 'Sex', 'Ticket', 'Cabin', 'Embarked']\n",
      "\n",
      "\n",
      "\u001b[1m\u001b[95mNumberical features in DataSet ['PassengerId', 'Survived', 'Pclass', 'Age', 'SibSp', 'Parch', 'Fare']\n"
     ]
    }
   ],
   "source": [
    "cat=[]\n",
    "num=[]\n",
    "for column in df1.columns:\n",
    "    if df1[column].dtype == 'object':\n",
    "        cat.append(column)\n",
    "    else:\n",
    "        num.append(column)\n",
    "\n",
    "print(color.BOLD+color.PURPLE+'Categorical features in DataSet',cat)\n",
    "print(\"\\n\")\n",
    "print(color.BOLD+color.PURPLE+'Numberical features in DataSet',num)"
   ]
  },
  {
   "cell_type": "code",
   "execution_count": 14,
   "metadata": {},
   "outputs": [],
   "source": [
    "Train.drop('PassengerId',axis=1,inplace=True)\n",
    "Test.drop('PassengerId',axis=1,inplace=True)"
   ]
  },
  {
   "cell_type": "code",
   "execution_count": 15,
   "metadata": {},
   "outputs": [
    {
     "name": "stdout",
     "output_type": "stream",
     "text": [
      "\u001b[1m\u001b[95mUnique values in categorical features of dataset :\n",
      "\n",
      "\u001b[1m\u001b[36m Harper, Miss. Annie Jessie \"Nina\"                    1\n",
      "Mack, Mrs. (Mary)                                    1\n",
      "Faunthorpe, Mr. Harry                                1\n",
      "Lindqvist, Mr. Eino William                          1\n",
      "LeRoy, Miss. Bertha                                  1\n",
      "                                                    ..\n",
      "Collett, Mr. Sidney C Stuart                         1\n",
      "Wells, Mrs. Arthur Henry (Addie\" Dart Trevaskis)\"    1\n",
      "Fortune, Mrs. Mark (Mary McDougald)                  1\n",
      "Connolly, Miss. Kate                                 2\n",
      "Kelly, Mr. James                                     2\n",
      "Name: Name, Length: 1307, dtype: int64\n",
      "\n",
      "\n",
      "\u001b[1m\u001b[36m female    466\n",
      "male      843\n",
      "Name: Sex, dtype: int64\n",
      "\n",
      "\n",
      "\u001b[1m\u001b[36m 248744              1\n",
      "SOTON/OQ 392086     1\n",
      "349205              1\n",
      "113054              1\n",
      "315093              1\n",
      "                   ..\n",
      "3101295             7\n",
      "347077              7\n",
      "CA 2144             8\n",
      "1601                8\n",
      "CA. 2343           11\n",
      "Name: Ticket, Length: 929, dtype: int64\n",
      "\n",
      "\n",
      "\u001b[1m\u001b[36m D49                1\n",
      "C103               1\n",
      "B24                1\n",
      "E38                1\n",
      "F E57              1\n",
      "                  ..\n",
      "F2                 4\n",
      "C78                4\n",
      "G6                 5\n",
      "B57 B59 B63 B66    5\n",
      "C23 C25 C27        6\n",
      "Name: Cabin, Length: 186, dtype: int64\n",
      "\n",
      "\n",
      "\u001b[1m\u001b[36m Q    123\n",
      "C    270\n",
      "S    914\n",
      "Name: Embarked, dtype: int64\n",
      "\n",
      "\n"
     ]
    }
   ],
   "source": [
    "#Reading unique values in non-numeric columns\n",
    "print(color.BOLD+color.PURPLE+\"Unique values in categorical features of dataset :\\n\")\n",
    "for column in df1:\n",
    "    if df1[column].dtype==object:\n",
    "        print(color.BOLD+color.DARKCYAN,df1[column].value_counts().sort_values())\n",
    "        print('\\n')"
   ]
  },
  {
   "cell_type": "code",
   "execution_count": 16,
   "metadata": {},
   "outputs": [],
   "source": [
    "def null_table(data):\n",
    "    indices = data.isnull().sum().index\n",
    "    values = data.isnull().sum().values\n",
    "    percentages = []\n",
    "    for i in indices:\n",
    "        percentages.append((data[i].isnull().sum() / data[i].shape[0]) * 100)\n",
    "    d = {'Columns' : indices, 'Count of Null Values' : values, 'Approximate Percentage of Null Values' : percentages}\n",
    "    # data = dict(zip(indices, percentages))\n",
    "    null_frame = pd.DataFrame(data = d)\n",
    "    return null_frame\n"
   ]
  },
  {
   "cell_type": "code",
   "execution_count": 17,
   "metadata": {},
   "outputs": [
    {
     "name": "stdout",
     "output_type": "stream",
     "text": [
      "\u001b[1m\u001b[95mMissing values in dataset :\n",
      "\n"
     ]
    }
   ],
   "source": [
    "print(color.BOLD+color.PURPLE+\"Missing values in dataset :\\n\")\n"
   ]
  },
  {
   "cell_type": "code",
   "execution_count": 18,
   "metadata": {
    "scrolled": false
   },
   "outputs": [
    {
     "data": {
      "text/html": [
       "<div>\n",
       "<style scoped>\n",
       "    .dataframe tbody tr th:only-of-type {\n",
       "        vertical-align: middle;\n",
       "    }\n",
       "\n",
       "    .dataframe tbody tr th {\n",
       "        vertical-align: top;\n",
       "    }\n",
       "\n",
       "    .dataframe thead th {\n",
       "        text-align: right;\n",
       "    }\n",
       "</style>\n",
       "<table border=\"1\" class=\"dataframe\">\n",
       "  <thead>\n",
       "    <tr style=\"text-align: right;\">\n",
       "      <th></th>\n",
       "      <th>Columns</th>\n",
       "      <th>Count of Null Values</th>\n",
       "      <th>Approximate Percentage of Null Values</th>\n",
       "    </tr>\n",
       "  </thead>\n",
       "  <tbody>\n",
       "    <tr>\n",
       "      <th>10</th>\n",
       "      <td>Cabin</td>\n",
       "      <td>1014</td>\n",
       "      <td>77.463713</td>\n",
       "    </tr>\n",
       "    <tr>\n",
       "      <th>1</th>\n",
       "      <td>Survived</td>\n",
       "      <td>418</td>\n",
       "      <td>31.932773</td>\n",
       "    </tr>\n",
       "    <tr>\n",
       "      <th>5</th>\n",
       "      <td>Age</td>\n",
       "      <td>263</td>\n",
       "      <td>20.091673</td>\n",
       "    </tr>\n",
       "    <tr>\n",
       "      <th>11</th>\n",
       "      <td>Embarked</td>\n",
       "      <td>2</td>\n",
       "      <td>0.152788</td>\n",
       "    </tr>\n",
       "    <tr>\n",
       "      <th>9</th>\n",
       "      <td>Fare</td>\n",
       "      <td>1</td>\n",
       "      <td>0.076394</td>\n",
       "    </tr>\n",
       "  </tbody>\n",
       "</table>\n",
       "</div>"
      ],
      "text/plain": [
       "     Columns  Count of Null Values  Approximate Percentage of Null Values\n",
       "10     Cabin                  1014                              77.463713\n",
       "1   Survived                   418                              31.932773\n",
       "5        Age                   263                              20.091673\n",
       "11  Embarked                     2                               0.152788\n",
       "9       Fare                     1                               0.076394"
      ]
     },
     "execution_count": 18,
     "metadata": {},
     "output_type": "execute_result"
    }
   ],
   "source": [
    "null_frame_train = null_table(df1)\n",
    "null_frame_train=null_frame_train[null_frame_train['Approximate Percentage of Null Values'] >0]\n",
    "null_frame_train.sort_values(by='Approximate Percentage of Null Values',ascending=False)\n"
   ]
  },
  {
   "cell_type": "code",
   "execution_count": 19,
   "metadata": {},
   "outputs": [
    {
     "name": "stdout",
     "output_type": "stream",
     "text": [
      "\u001b[1m\u001b[95mDuplicate check on dataset :\n",
      "\n"
     ]
    },
    {
     "data": {
      "text/plain": [
       "PassengerId    0.0\n",
       "Survived       0.0\n",
       "Pclass         0.0\n",
       "Name           0.0\n",
       "Sex            0.0\n",
       "Age            0.0\n",
       "SibSp          0.0\n",
       "Parch          0.0\n",
       "Ticket         0.0\n",
       "Fare           0.0\n",
       "Cabin          0.0\n",
       "Embarked       0.0\n",
       "dtype: float64"
      ]
     },
     "execution_count": 19,
     "metadata": {},
     "output_type": "execute_result"
    }
   ],
   "source": [
    "print(color.BOLD+color.PURPLE+\"Duplicate check on dataset :\\n\")\n",
    "duplicateRowsDF = df1[df1.duplicated()]\n",
    "duplicateRowsDF.sum()"
   ]
  },
  {
   "cell_type": "code",
   "execution_count": 20,
   "metadata": {},
   "outputs": [
    {
     "data": {
      "text/html": [
       "<div>\n",
       "<style scoped>\n",
       "    .dataframe tbody tr th:only-of-type {\n",
       "        vertical-align: middle;\n",
       "    }\n",
       "\n",
       "    .dataframe tbody tr th {\n",
       "        vertical-align: top;\n",
       "    }\n",
       "\n",
       "    .dataframe thead th {\n",
       "        text-align: right;\n",
       "    }\n",
       "</style>\n",
       "<table border=\"1\" class=\"dataframe\">\n",
       "  <thead>\n",
       "    <tr style=\"text-align: right;\">\n",
       "      <th></th>\n",
       "      <th>Types</th>\n",
       "      <th>Outliers</th>\n",
       "    </tr>\n",
       "  </thead>\n",
       "  <tbody>\n",
       "    <tr>\n",
       "      <th>Survived</th>\n",
       "      <td>int64</td>\n",
       "      <td>0</td>\n",
       "    </tr>\n",
       "    <tr>\n",
       "      <th>Pclass</th>\n",
       "      <td>int64</td>\n",
       "      <td>0</td>\n",
       "    </tr>\n",
       "    <tr>\n",
       "      <th>Name</th>\n",
       "      <td>object</td>\n",
       "      <td>0</td>\n",
       "    </tr>\n",
       "    <tr>\n",
       "      <th>Sex</th>\n",
       "      <td>object</td>\n",
       "      <td>0</td>\n",
       "    </tr>\n",
       "    <tr>\n",
       "      <th>Age</th>\n",
       "      <td>float64</td>\n",
       "      <td>11</td>\n",
       "    </tr>\n",
       "    <tr>\n",
       "      <th>SibSp</th>\n",
       "      <td>int64</td>\n",
       "      <td>0</td>\n",
       "    </tr>\n",
       "    <tr>\n",
       "      <th>Parch</th>\n",
       "      <td>int64</td>\n",
       "      <td>0</td>\n",
       "    </tr>\n",
       "    <tr>\n",
       "      <th>Ticket</th>\n",
       "      <td>object</td>\n",
       "      <td>0</td>\n",
       "    </tr>\n",
       "    <tr>\n",
       "      <th>Fare</th>\n",
       "      <td>float64</td>\n",
       "      <td>116</td>\n",
       "    </tr>\n",
       "    <tr>\n",
       "      <th>Cabin</th>\n",
       "      <td>object</td>\n",
       "      <td>0</td>\n",
       "    </tr>\n",
       "    <tr>\n",
       "      <th>Embarked</th>\n",
       "      <td>object</td>\n",
       "      <td>0</td>\n",
       "    </tr>\n",
       "  </tbody>\n",
       "</table>\n",
       "</div>"
      ],
      "text/plain": [
       "            Types  Outliers\n",
       "Survived    int64         0\n",
       "Pclass      int64         0\n",
       "Name       object         0\n",
       "Sex        object         0\n",
       "Age       float64        11\n",
       "SibSp       int64         0\n",
       "Parch       int64         0\n",
       "Ticket     object         0\n",
       "Fare      float64       116\n",
       "Cabin      object         0\n",
       "Embarked   object         0"
      ]
     },
     "execution_count": 20,
     "metadata": {},
     "output_type": "execute_result"
    }
   ],
   "source": [
    "list_of_numerics=Train.select_dtypes(include=['float','int32']).columns\n",
    "types= Train.dtypes\n",
    "overview= Train.apply(lambda x: [round(x.min()), \n",
    "                                 round(x.max()), \n",
    "                                 round(x.mean()), \n",
    "                                 round(x.quantile(0.5))] if x.name in list_of_numerics else x.unique())\n",
    "\n",
    "outliers= Train.apply(lambda x: sum(\n",
    "                                 (x<(x.quantile(0.25)-1.5*(x.quantile(0.75)-x.quantile(0.25))))|\n",
    "                                 (x>(x.quantile(0.75)+1.5*(x.quantile(0.75)-x.quantile(0.25))))\n",
    "                                 if x.name in list_of_numerics else ''))\n",
    "\n",
    "\n",
    "explo = pd.DataFrame({'Types': types,\n",
    "                      'Outliers': outliers})\n",
    "explo\n"
   ]
  },
  {
   "cell_type": "code",
   "execution_count": 21,
   "metadata": {},
   "outputs": [
    {
     "data": {
      "text/html": [
       "<div>\n",
       "<style scoped>\n",
       "    .dataframe tbody tr th:only-of-type {\n",
       "        vertical-align: middle;\n",
       "    }\n",
       "\n",
       "    .dataframe tbody tr th {\n",
       "        vertical-align: top;\n",
       "    }\n",
       "\n",
       "    .dataframe thead th {\n",
       "        text-align: right;\n",
       "    }\n",
       "</style>\n",
       "<table border=\"1\" class=\"dataframe\">\n",
       "  <thead>\n",
       "    <tr style=\"text-align: right;\">\n",
       "      <th></th>\n",
       "      <th>Types</th>\n",
       "      <th>Outliers</th>\n",
       "    </tr>\n",
       "  </thead>\n",
       "  <tbody>\n",
       "    <tr>\n",
       "      <th>Pclass</th>\n",
       "      <td>int64</td>\n",
       "      <td>0</td>\n",
       "    </tr>\n",
       "    <tr>\n",
       "      <th>Name</th>\n",
       "      <td>object</td>\n",
       "      <td>0</td>\n",
       "    </tr>\n",
       "    <tr>\n",
       "      <th>Sex</th>\n",
       "      <td>object</td>\n",
       "      <td>0</td>\n",
       "    </tr>\n",
       "    <tr>\n",
       "      <th>Age</th>\n",
       "      <td>float64</td>\n",
       "      <td>2</td>\n",
       "    </tr>\n",
       "    <tr>\n",
       "      <th>SibSp</th>\n",
       "      <td>int64</td>\n",
       "      <td>0</td>\n",
       "    </tr>\n",
       "    <tr>\n",
       "      <th>Parch</th>\n",
       "      <td>int64</td>\n",
       "      <td>0</td>\n",
       "    </tr>\n",
       "    <tr>\n",
       "      <th>Ticket</th>\n",
       "      <td>object</td>\n",
       "      <td>0</td>\n",
       "    </tr>\n",
       "    <tr>\n",
       "      <th>Fare</th>\n",
       "      <td>float64</td>\n",
       "      <td>55</td>\n",
       "    </tr>\n",
       "    <tr>\n",
       "      <th>Cabin</th>\n",
       "      <td>object</td>\n",
       "      <td>0</td>\n",
       "    </tr>\n",
       "    <tr>\n",
       "      <th>Embarked</th>\n",
       "      <td>object</td>\n",
       "      <td>0</td>\n",
       "    </tr>\n",
       "  </tbody>\n",
       "</table>\n",
       "</div>"
      ],
      "text/plain": [
       "            Types  Outliers\n",
       "Pclass      int64         0\n",
       "Name       object         0\n",
       "Sex        object         0\n",
       "Age       float64         2\n",
       "SibSp       int64         0\n",
       "Parch       int64         0\n",
       "Ticket     object         0\n",
       "Fare      float64        55\n",
       "Cabin      object         0\n",
       "Embarked   object         0"
      ]
     },
     "execution_count": 21,
     "metadata": {},
     "output_type": "execute_result"
    }
   ],
   "source": [
    "list_of_numerics=Train.select_dtypes(include=['float','int32']).columns\n",
    "types= Test.dtypes\n",
    "overview= Test.apply(lambda x: [round(x.min()), \n",
    "                                 round(x.max()), \n",
    "                                 round(x.mean()), \n",
    "                                 round(x.quantile(0.5))] if x.name in list_of_numerics else x.unique())\n",
    "\n",
    "outliers= Test.apply(lambda x: sum(\n",
    "                                 (x<(x.quantile(0.25)-1.5*(x.quantile(0.75)-x.quantile(0.25))))|\n",
    "                                 (x>(x.quantile(0.75)+1.5*(x.quantile(0.75)-x.quantile(0.25))))\n",
    "                                 if x.name in list_of_numerics else ''))\n",
    "\n",
    "\n",
    "explo = pd.DataFrame({'Types': types,\n",
    "                      'Outliers': outliers})\n",
    "explo\n"
   ]
  },
  {
   "cell_type": "code",
   "execution_count": 21,
   "metadata": {},
   "outputs": [
    {
     "data": {
      "image/png": "[encoded data removed]",
      "text/plain": [
       "<Figure size 1080x1080 with 42 Axes>"
      ]
     },
     "metadata": {
      "needs_background": "light"
     },
     "output_type": "display_data"
    }
   ],
   "source": [
    "sns.pairplot(Train,diag_kind=\"kde\")\n",
    "plt.show()"
   ]
  },
  {
   "cell_type": "code",
   "execution_count": 22,
   "metadata": {},
   "outputs": [
    {
     "data": {
      "image/png": "[encoded data removed]",
      "text/plain": [
       "<Figure size 900x900 with 30 Axes>"
      ]
     },
     "metadata": {
      "needs_background": "light"
     },
     "output_type": "display_data"
    }
   ],
   "source": [
    "sns.pairplot(Test,diag_kind=\"kde\")\n",
    "plt.show()"
   ]
  },
  {
   "cell_type": "code",
   "execution_count": 22,
   "metadata": {},
   "outputs": [
    {
     "name": "stdout",
     "output_type": "stream",
     "text": [
      "\u001b[1m\u001b[36m 0    549\n",
      "1    342\n",
      "Name: Survived, dtype: int64\n",
      "%1s 0.668600623484586\n",
      "%0s 0.3313993765154139\n"
     ]
    }
   ],
   "source": [
    "print(color.BOLD+color.DARKCYAN,Train.Survived.value_counts())\n",
    "print('%1s',7721/(7721+3827))\n",
    "print('%0s',3827/(7721+3827))"
   ]
  },
  {
   "cell_type": "markdown",
   "metadata": {},
   "source": [
    "<h3> Train Test Split </h3>"
   ]
  },
  {
   "cell_type": "code",
   "execution_count": 23,
   "metadata": {},
   "outputs": [],
   "source": [
    "Train.drop('Name',axis=1,inplace=True)\n",
    "Test.drop('Name',axis=1,inplace=True)"
   ]
  },
  {
   "cell_type": "code",
   "execution_count": 24,
   "metadata": {},
   "outputs": [
    {
     "name": "stdout",
     "output_type": "stream",
     "text": [
      "\n",
      "\n",
      "\u001b[1m\u001b[36mFeature: Sex\n",
      "\u001b[1m\u001b[36m ['male', 'female']\n",
      "Categories (2, object): ['female', 'male']\n",
      "\u001b[1m\u001b[36m [1 0]\n",
      "\n",
      "\n",
      "\u001b[1m\u001b[36mFeature: Ticket\n",
      "\u001b[1m\u001b[36m ['A/5 21171', 'PC 17599', 'STON/O2. 3101282', '113803', '373450', ..., 'SOTON/OQ 392076', '211536', '112053', '111369', '370376']\n",
      "Length: 681\n",
      "Categories (681, object): ['110152', '110413', '110465', '110564', ..., 'W./C. 6609', 'W.E.P. 5734', 'W/C 14208', 'WE/P 5735']\n",
      "\u001b[1m\u001b[36m [523 596 669  49 472 275  85 395 344 132 616  38 535 333 413 153 480 151\n",
      " 301 184 139 152 278  42 329 179  95 283 362 598 586 288 549 600  43 202\n",
      " 514 302 186 507  53 391 634 282 617 462  76 190 377 249 522 587 239  29\n",
      "  94 555 215 561 566 197  32 457 337 601 189 553 623 248 270 557 621 204\n",
      "  80 347 355 473 158 432 304 311 280  25 637 247 676 652 297 298 341 678\n",
      " 548 428 475 607 612 117 150 384 361 417 505 245 354 296 254 388 469   2\n",
      " 193 274 491 176 666 460 585 540 219 463 541 196 318 380 640 537 111 552\n",
      " 630  55 504 592 203 332 668 438 118 558 405 113 147 622  36 516 538 573\n",
      " 595 418 654 258 568 470 559 323 265 423  28 576   5 659  90 412 488 593\n",
      " 169 574 629 114 271  34 459  11 435 386 122 227 406 604 452 494 461 160\n",
      " 306 242 177 530 316 216 445  17 642 570 526 163 443 416 670 142  63 679\n",
      " 653 105 102 375  93 615 672 525 125 322 128 554 677 198 556 231 636 444\n",
      " 674 658 213  92 325 166  54 144 422  31 536 458 185 589   0 608 115 482\n",
      "   1  16 478 546 334 588 613  47 162 594 465  71 326 135 551 290 340 310\n",
      " 533  24 378 308 353 134 464  91  64 635 376 374 606 212  37  98 513 441\n",
      " 109 527  83 611 575 584  59 602 167 382 571 343 232 453  81 524 365 124\n",
      " 299 229   7  20 605 370 510  39 159 149 112 157 257 483 562 262 503  30\n",
      " 214 182 314 131 279 285 633 211 641 544   4 175  78 581  58 244 273 545\n",
      "  27 183 324 610 187 665 371 220 447 625  33 401 246 410 414 226 146 140\n",
      " 663 292 492 267 230 321 237 255 367 487 655 295 224 168 225 307 392 534\n",
      " 259 331 521 100 170 437 644   3 476 627 657  72 547 305 328 116 499 289\n",
      "  45 194  40 497  22  84 528 379  73  86 572 468  96 429   6 121 539 639\n",
      "  44 421 272 263 628 509 252 315 411 251 136 531 489  61 517 498 649  41\n",
      " 603 518 454 564 402 261 433 276 490 180  10 542 479 648 577 599 356 456\n",
      " 560 110 381  67 390 173 217 446 673 583 250 235 181 210 260  21 614 426\n",
      "  75 680 233 501 631 148 284 171 335  52  57 300 471 389 103 651 645 519\n",
      " 352 207 415 624  60 578  77 520 420 143 209 661 133  68 291 129  74  79\n",
      " 515 656 532 434 626 155 192 360  46 430   9 396 385  50 638 467 431 106\n",
      " 253 188  56 400 495 455 104 369 286 218 345  70  13 130 664 409 373  69\n",
      " 620 567 366 512 277 439 368 241 172 496 357 660 123 256 529  99 240 569\n",
      " 550 145 138 397 294 493 281 500 372 403 141  89 393 200  48 156 425 419\n",
      " 346 579 449 398 108 580 582  19 506 164 348 293 440 319 408  65 161  51\n",
      " 266 451 127 667 137 228 119 349 364  82 477 662 165  35 287 234 486 312\n",
      " 351 404 238 424 646 191 327  18 436 511 313 407 619 201 236 330 481 450\n",
      " 208  26 675 643 474 243  66 597 350 223  87 383 206 174 338 320  12 336\n",
      " 154 339 222 427  15 671 618 543 269  97 448 442 199 342 107 609 268 485\n",
      "  62 647 205 264 563 359 317 591 484  23 178 399 221  88 120 126 632 590\n",
      " 309 387 502 303 195 358 363 394 508 565 650 101  14   8 466]\n",
      "\n",
      "\n",
      "\u001b[1m\u001b[36mFeature: Cabin\n",
      "\u001b[1m\u001b[36m [NaN, 'C85', 'C123', 'E46', 'G6', ..., 'E17', 'A24', 'C50', 'B42', 'C148']\n",
      "Length: 148\n",
      "Categories (147, object): ['A10', 'A14', 'A16', 'A19', ..., 'F38', 'F4', 'G6', 'T']\n",
      "\u001b[1m\u001b[36m [ -1  81  55 129 145  49 111  13  63  41 101  23  71  21  80 142 140 122\n",
      "  12  91  98  52  36 116 138 107  45 141  61 123  18  14  69 144   9  28\n",
      "  43   8 103  93  87  78 102  83  40 134  46  57  89  54 113   3  31  90\n",
      "  62  51  74 125  72  35  76 124  65  17  56  85 127 146  59 104  24 131\n",
      "  79  47 115 128  10  50  53  86 126  97 117 133   1  25  64  96  42 121\n",
      " 106  39  88  26  27  20  82  77   2  48  75   0 135  29   4  95 110 114\n",
      "   5  33   7 108 132  58  38  34 109  32  19 139  73 120  84  66 137  15\n",
      " 105  67 100 118  92 136 143  22 112  44  94  11  16  37 130  68  99 119\n",
      "   6  70  30  60]\n",
      "\n",
      "\n",
      "\u001b[1m\u001b[36mFeature: Embarked\n",
      "\u001b[1m\u001b[36m ['S', 'C', 'Q', NaN]\n",
      "Categories (3, object): ['C', 'Q', 'S']\n",
      "\u001b[1m\u001b[36m [ 2  0  1 -1]\n"
     ]
    }
   ],
   "source": [
    "for feature in Train.columns: \n",
    "        if Train[feature].dtype == 'object': \n",
    "            print('\\n')\n",
    "            print(color.BOLD+color.DARKCYAN+'Feature:',feature)\n",
    "            print(color.BOLD+color.DARKCYAN,pd.Categorical(Train[feature].unique()))\n",
    "            print(color.BOLD+color.DARKCYAN,pd.Categorical(Train[feature].unique()).codes)\n",
    "            Train[feature] = pd.Categorical(Train[feature]).codes"
   ]
  },
  {
   "cell_type": "code",
   "execution_count": 25,
   "metadata": {},
   "outputs": [
    {
     "name": "stdout",
     "output_type": "stream",
     "text": [
      "\n",
      "\n",
      "\u001b[1m\u001b[36mFeature: Sex\n",
      "\u001b[1m\u001b[36m ['male', 'female']\n",
      "Categories (2, object): ['female', 'male']\n",
      "\u001b[1m\u001b[36m [1 0]\n",
      "\n",
      "\n",
      "\u001b[1m\u001b[36mFeature: Ticket\n",
      "\u001b[1m\u001b[36m ['330911', '363272', '240276', '315154', '3101298', ..., 'A.5. 3236', 'PC 17758', 'SOTON/O.Q. 3101262', '359309', '2668']\n",
      "Length: 363\n",
      "Categories (363, object): ['110469', '110489', '110813', '111163', ..., 'W./C. 14266', 'W./C. 6607', 'W./C. 6608', 'W.E.P. 5734']\n",
      "\u001b[1m\u001b[36m [152 221  73 147 138 261 158  84 100 269 195 259  52  74 362 343  60 119\n",
      " 356 120 316 277 314 313 319 273  14 121  11 104 338 283 280 360  34 115\n",
      " 166 141 172  39 204  16 347  65  24 355 312 243  30 290  37 344 131  49\n",
      " 335 249 198 191 253 199  64 185 159 300 155  22  89 250 194 137 306  13\n",
      " 219  28  85 236 111 303  47 201  72 102 150 268 224 130 179 168 297 246\n",
      "  38 209  46 354 190 266  29  57 227 178  92 278 153 252 163  83  68 156\n",
      " 304 149 113 114 328  33 337 286 232 255 237 245 210 231  51 164 357  17\n",
      " 256  90 196 216  99  81 353 294  18  78  43 171  41 336  20  88  26 203\n",
      " 239 214 181 332 189   1 351 161  94  54 167  66 146 310 361  45 262 331\n",
      " 106 108 134 285  58 322  59  15 263 305  71 330 270 296 126  56   3 274\n",
      "  61 125 187  40 177 284 257 229 183 323  93 287 298 264 123 320 202 348\n",
      " 333 186   9 154 238 148 340 165 359 211 317 103 212 241 293  76  55  21\n",
      " 135 157 315 218   2 112  87 327   6  70 175  42 107 289 352  35 260 174\n",
      " 291 276 222 127 169 170 217 288 200   4 292 265 144 235 242 110  62 334\n",
      " 133 295 358 140 226 240 272 350  98 271 318 248  95 162 173 193 345  23\n",
      " 188 182  69 143 251   8 254  32 208 142 101 302 233 326 275 307 122 215\n",
      " 180  97  80  19  75 349 309  50  63 308 116  96 197   0  79 109  91 279\n",
      " 213 321 192  67 117  82 299 325 301  10  27  31 234 206 329 139  25 118\n",
      " 136   7 339 124   5  86 145 132 258 230 151 223 247 341 207  77 225 205\n",
      " 311 281 282 244  36 176  53 128  12  44 342 129 160 228  48 184 267 324\n",
      " 346 220 105]\n",
      "\n",
      "\n",
      "\u001b[1m\u001b[36mFeature: Cabin\n",
      "\u001b[1m\u001b[36m [NaN, 'B45', 'E31', 'B57 B59 B63 B66', 'B36', ..., 'B41', 'C7', 'D40', 'D38', 'C105']\n",
      "Length: 77\n",
      "Categories (76, object): ['A11', 'A18', 'A21', 'A29', ..., 'F2', 'F33', 'F4', 'G6']\n",
      "\u001b[1m\u001b[36m [-1 12 60 15 10  2 41 55 50  5 49 30 28 71 17 35 59 25 26 21 37 19 33 24\n",
      " 68  3 75 38 29 34 64 36 46 52  6 74 63 66 54 16 61 39  0  7 42 73 43 56\n",
      " 44 51 45 69  4 47  9 27 18 31 20 70 72  1 23 13 48 67 65 62 14 32  8 53\n",
      " 11 40 58 57 22]\n",
      "\n",
      "\n",
      "\u001b[1m\u001b[36mFeature: Embarked\n",
      "\u001b[1m\u001b[36m ['Q', 'S', 'C']\n",
      "Categories (3, object): ['C', 'Q', 'S']\n",
      "\u001b[1m\u001b[36m [1 2 0]\n"
     ]
    }
   ],
   "source": [
    "for feature in Test.columns: \n",
    "        if Test[feature].dtype == 'object': \n",
    "            print('\\n')\n",
    "            print(color.BOLD+color.DARKCYAN+'Feature:',feature)\n",
    "            print(color.BOLD+color.DARKCYAN,pd.Categorical(Test[feature].unique()))\n",
    "            print(color.BOLD+color.DARKCYAN,pd.Categorical(Test[feature].unique()).codes)\n",
    "            Test[feature] = pd.Categorical(Test[feature]).codes"
   ]
  },
  {
   "cell_type": "code",
   "execution_count": 26,
   "metadata": {},
   "outputs": [],
   "source": [
    "for column in Train.columns:\n",
    "    if Train[column].dtype != 'object':\n",
    "        Train[column].fillna(Train[column].median(),inplace=True)"
   ]
  },
  {
   "cell_type": "code",
   "execution_count": 27,
   "metadata": {},
   "outputs": [],
   "source": [
    "for column in Test.columns:\n",
    "    if Test[column].dtype != 'object':\n",
    "        Test[column].fillna(Test[column].median(),inplace=True)"
   ]
  },
  {
   "cell_type": "code",
   "execution_count": 28,
   "metadata": {},
   "outputs": [],
   "source": [
    "for column in Train.columns:\n",
    "    if Train[column].dtype == 'object':\n",
    "        Train[column].fillna(Train[column].mode(),inplace=True)"
   ]
  },
  {
   "cell_type": "code",
   "execution_count": 29,
   "metadata": {},
   "outputs": [],
   "source": [
    "for column in Test.columns:\n",
    "    if Test[column].dtype == 'object':\n",
    "        Test[column].fillna(Test[column].mode(),inplace=True)"
   ]
  },
  {
   "cell_type": "code",
   "execution_count": 30,
   "metadata": {},
   "outputs": [
    {
     "name": "stdout",
     "output_type": "stream",
     "text": [
      "<class 'pandas.core.frame.DataFrame'>\n",
      "RangeIndex: 418 entries, 0 to 417\n",
      "Data columns (total 9 columns):\n",
      " #   Column    Non-Null Count  Dtype  \n",
      "---  ------    --------------  -----  \n",
      " 0   Pclass    418 non-null    int64  \n",
      " 1   Sex       418 non-null    int8   \n",
      " 2   Age       418 non-null    float64\n",
      " 3   SibSp     418 non-null    int64  \n",
      " 4   Parch     418 non-null    int64  \n",
      " 5   Ticket    418 non-null    int16  \n",
      " 6   Fare      418 non-null    float64\n",
      " 7   Cabin     418 non-null    int8   \n",
      " 8   Embarked  418 non-null    int8   \n",
      "dtypes: float64(2), int16(1), int64(3), int8(3)\n",
      "memory usage: 18.5 KB\n"
     ]
    }
   ],
   "source": [
    "Test.info()"
   ]
  },
  {
   "cell_type": "code",
   "execution_count": 31,
   "metadata": {},
   "outputs": [],
   "source": [
    "# Copy all the predictor variables into X dataframe\n",
    "X_train = Train.drop('Survived', axis=1)\n",
    "\n",
    "# Copy target into the y dataframe. \n",
    "y_train = Train['Survived']"
   ]
  },
  {
   "cell_type": "code",
   "execution_count": 32,
   "metadata": {},
   "outputs": [
    {
     "name": "stdout",
     "output_type": "stream",
     "text": [
      "<class 'pandas.core.frame.DataFrame'>\n",
      "RangeIndex: 891 entries, 0 to 890\n",
      "Data columns (total 9 columns):\n",
      " #   Column    Non-Null Count  Dtype  \n",
      "---  ------    --------------  -----  \n",
      " 0   Pclass    891 non-null    int64  \n",
      " 1   Sex       891 non-null    int8   \n",
      " 2   Age       891 non-null    float64\n",
      " 3   SibSp     891 non-null    int64  \n",
      " 4   Parch     891 non-null    int64  \n",
      " 5   Ticket    891 non-null    int16  \n",
      " 6   Fare      891 non-null    float64\n",
      " 7   Cabin     891 non-null    int16  \n",
      " 8   Embarked  891 non-null    int8   \n",
      "dtypes: float64(2), int16(2), int64(3), int8(2)\n",
      "memory usage: 40.2 KB\n"
     ]
    }
   ],
   "source": [
    "X_train.info()"
   ]
  },
  {
   "cell_type": "code",
   "execution_count": 33,
   "metadata": {},
   "outputs": [
    {
     "name": "stdout",
     "output_type": "stream",
     "text": [
      "<class 'pandas.core.frame.DataFrame'>\n",
      "RangeIndex: 418 entries, 0 to 417\n",
      "Data columns (total 9 columns):\n",
      " #   Column    Non-Null Count  Dtype  \n",
      "---  ------    --------------  -----  \n",
      " 0   Pclass    418 non-null    int64  \n",
      " 1   Sex       418 non-null    int8   \n",
      " 2   Age       418 non-null    float64\n",
      " 3   SibSp     418 non-null    int64  \n",
      " 4   Parch     418 non-null    int64  \n",
      " 5   Ticket    418 non-null    int16  \n",
      " 6   Fare      418 non-null    float64\n",
      " 7   Cabin     418 non-null    int8   \n",
      " 8   Embarked  418 non-null    int8   \n",
      "dtypes: float64(2), int16(1), int64(3), int8(3)\n",
      "memory usage: 18.5 KB\n"
     ]
    }
   ],
   "source": [
    "Test.info()"
   ]
  },
  {
   "cell_type": "code",
   "execution_count": 34,
   "metadata": {},
   "outputs": [
    {
     "name": "stdout",
     "output_type": "stream",
     "text": [
      "\u001b[1m\u001b[95mData is split as independent and dependent variables into training and test set in 70:30 ratio:\n",
      "\n",
      "\n",
      "\u001b[1m\u001b[95mNumber of rows and columns of the training set for the independent variables: (891, 9)\n",
      "\u001b[1m\u001b[95mNumber of rows and columns of the training set for the dependent variable: (891,)\n",
      "\u001b[1m\u001b[95mNumber of rows and columns of the test set for the independent variables: (418, 9)\n"
     ]
    }
   ],
   "source": [
    "print(color.BOLD+color.PURPLE+'Data is split as independent and dependent variables into training and test set in 70:30 ratio:')\n",
    "print(\"\\n\")\n",
    "print(color.BOLD+color.PURPLE+'Number of rows and columns of the training set for the independent variables:',X_train.shape)\n",
    "print(color.BOLD+color.PURPLE+'Number of rows and columns of the training set for the dependent variable:',y_train.shape)\n",
    "print(color.BOLD+color.PURPLE+'Number of rows and columns of the test set for the independent variables:',Test.shape)\n"
   ]
  },
  {
   "cell_type": "code",
   "execution_count": 35,
   "metadata": {},
   "outputs": [],
   "source": [
    "param_grid = {\n",
    "  \n",
    "    #Parameters used initially :\n",
    "    \n",
    "    #'hidden_layer_sizes' :[100,500,1000,1500],\n",
    "    #'max_iter' :[200,500,1000],\n",
    "    #'tol':[0.0001,0.1,0.01],\n",
    "    \n",
    "   #Parameters finalized after obtaining best parameters:\n",
    "    \n",
    "    'hidden_layer_sizes' :[500,1500],\n",
    "    'max_iter' :[500,1500],\n",
    "    'tol':[0.0001],\n",
    "    \n",
    " }\n",
    "\n",
    "clf = MLPClassifier(random_state=42)\n",
    "\n",
    "grid_searchnn = GridSearchCV(estimator = clf, param_grid = param_grid, cv = 10)"
   ]
  },
  {
   "cell_type": "code",
   "execution_count": 36,
   "metadata": {
    "scrolled": true
   },
   "outputs": [
    {
     "name": "stdout",
     "output_type": "stream",
     "text": [
      "\u001b[1m\u001b[36mParameter used to build Cart model:\n"
     ]
    },
    {
     "data": {
      "text/plain": [
       "GridSearchCV(cv=10, estimator=MLPClassifier(random_state=42),\n",
       "             param_grid={'hidden_layer_sizes': [500, 1500],\n",
       "                         'max_iter': [500, 1500], 'tol': [0.0001]})"
      ]
     },
     "execution_count": 36,
     "metadata": {},
     "output_type": "execute_result"
    }
   ],
   "source": [
    "print(color.BOLD+color.DARKCYAN+'Parameter used to build Cart model:')\n",
    "grid_searchnn.fit(X_train, y_train)"
   ]
  },
  {
   "cell_type": "code",
   "execution_count": 40,
   "metadata": {},
   "outputs": [
    {
     "name": "stdout",
     "output_type": "stream",
     "text": [
      "\u001b[1m\u001b[36mParameter finzilzed and applied to build to ANN model:\n",
      "{'hidden_layer_sizes': 1500, 'max_iter': 500, 'tol': 0.0001}\n"
     ]
    },
    {
     "data": {
      "text/plain": [
       "MLPClassifier(hidden_layer_sizes=1500, max_iter=500, random_state=42)"
      ]
     },
     "execution_count": 40,
     "metadata": {},
     "output_type": "execute_result"
    }
   ],
   "source": [
    "print(color.BOLD+color.DARKCYAN+'Parameter finzilzed and applied to build to ANN model:')\n",
    "print(grid_searchnn.best_params_)\n",
    "best_grid_dt=grid_searchnn.best_estimator_ \n",
    "best_grid_dt"
   ]
  },
  {
   "cell_type": "code",
   "execution_count": 39,
   "metadata": {
    "scrolled": true
   },
   "outputs": [
    {
     "name": "stdout",
     "output_type": "stream",
     "text": [
      "\u001b[1mVariable Importance:\n",
      "\n",
      "\u001b[1m\u001b[36m                Imp\n",
      "Sex       0.463199\n",
      "Pclass    0.117789\n",
      "Ticket    0.111518\n",
      "Fare      0.103642\n",
      "Age       0.096971\n",
      "Cabin     0.061472\n",
      "SibSp     0.017671\n",
      "Embarked  0.015883\n",
      "Parch     0.011856\n"
     ]
    }
   ],
   "source": [
    "print(color.BOLD+'Variable Importance:\\n')\n",
    "print (color.BOLD+color.DARKCYAN,pd.DataFrame(best_grid_dt.feature_importances_,columns = [\"Imp\"], index = X_train.columns).sort_values('Imp',ascending=False))\n"
   ]
  },
  {
   "cell_type": "code",
   "execution_count": 41,
   "metadata": {},
   "outputs": [],
   "source": [
    "ytrain_predict = best_grid_dt.predict(X_train)\n",
    "ytest_predict = best_grid_dt.predict(Test)"
   ]
  },
  {
   "cell_type": "code",
   "execution_count": 42,
   "metadata": {
    "scrolled": true
   },
   "outputs": [
    {
     "name": "stdout",
     "output_type": "stream",
     "text": [
      "\u001b[1m\u001b[36mGetting the Predicted Classes and Probs:\n"
     ]
    },
    {
     "data": {
      "text/html": [
       "<div>\n",
       "<style scoped>\n",
       "    .dataframe tbody tr th:only-of-type {\n",
       "        vertical-align: middle;\n",
       "    }\n",
       "\n",
       "    .dataframe tbody tr th {\n",
       "        vertical-align: top;\n",
       "    }\n",
       "\n",
       "    .dataframe thead th {\n",
       "        text-align: right;\n",
       "    }\n",
       "</style>\n",
       "<table border=\"1\" class=\"dataframe\">\n",
       "  <thead>\n",
       "    <tr style=\"text-align: right;\">\n",
       "      <th></th>\n",
       "      <th>0</th>\n",
       "      <th>1</th>\n",
       "    </tr>\n",
       "  </thead>\n",
       "  <tbody>\n",
       "    <tr>\n",
       "      <th>0</th>\n",
       "      <td>0.860342</td>\n",
       "      <td>0.139658</td>\n",
       "    </tr>\n",
       "    <tr>\n",
       "      <th>1</th>\n",
       "      <td>0.510335</td>\n",
       "      <td>0.489665</td>\n",
       "    </tr>\n",
       "    <tr>\n",
       "      <th>2</th>\n",
       "      <td>0.994822</td>\n",
       "      <td>0.005178</td>\n",
       "    </tr>\n",
       "    <tr>\n",
       "      <th>3</th>\n",
       "      <td>0.828358</td>\n",
       "      <td>0.171642</td>\n",
       "    </tr>\n",
       "    <tr>\n",
       "      <th>4</th>\n",
       "      <td>0.290103</td>\n",
       "      <td>0.709897</td>\n",
       "    </tr>\n",
       "  </tbody>\n",
       "</table>\n",
       "</div>"
      ],
      "text/plain": [
       "          0         1\n",
       "0  0.860342  0.139658\n",
       "1  0.510335  0.489665\n",
       "2  0.994822  0.005178\n",
       "3  0.828358  0.171642\n",
       "4  0.290103  0.709897"
      ]
     },
     "execution_count": 42,
     "metadata": {},
     "output_type": "execute_result"
    }
   ],
   "source": [
    "print(color.BOLD+color.DARKCYAN+'Getting the Predicted Classes and Probs:')\n",
    "ytest_predict\n",
    "ytest_predict_prob=best_grid_dt.predict_proba(Test)\n",
    "ytest_predict_prob\n",
    "pd.DataFrame(ytest_predict_prob).head()"
   ]
  },
  {
   "cell_type": "code",
   "execution_count": 43,
   "metadata": {},
   "outputs": [
    {
     "data": {
      "text/plain": [
       "79.35"
      ]
     },
     "execution_count": 43,
     "metadata": {},
     "output_type": "execute_result"
    }
   ],
   "source": [
    "acc_decision_tree = round(best_grid_dt.score(X_train, y_train) * 100, 2)\n",
    "acc_decision_tree"
   ]
  },
  {
   "cell_type": "code",
   "execution_count": 44,
   "metadata": {},
   "outputs": [
    {
     "name": "stdout",
     "output_type": "stream",
     "text": [
      "\u001b[1mRandom Forest Train data metrices:\n",
      "\n",
      "\u001b[1m\u001b[36mRF Train Precision 0.69\n",
      "\u001b[1m\u001b[36mRF Train Recall 0.84\n",
      "\u001b[1m\u001b[36mRF Train F1 score  0.76\n"
     ]
    }
   ],
   "source": [
    "rf_metrics=classification_report(y_train, ytrain_predict,output_dict=True)\n",
    "\n",
    "df=pd.DataFrame(rf_metrics).transpose()\n",
    "rf_train_precision=round(df.loc[\"1\"][0],2)\n",
    "rf_train_recall=round(df.loc[\"1\"][1],2)\n",
    "rf_train_f1=round(df.loc[\"1\"][2],2)\n",
    "print(color.BOLD+'Random Forest Train data metrices:\\n')\n",
    "print (color.BOLD+color.DARKCYAN+'RF Train Precision',rf_train_precision)\n",
    "print (color.BOLD+color.DARKCYAN+'RF Train Recall',rf_train_recall)\n",
    "print (color.BOLD+color.DARKCYAN+'RF Train F1 score ',rf_train_f1)"
   ]
  },
  {
   "cell_type": "markdown",
   "metadata": {},
   "source": [
    "CART WITH OUTLIER REMOVED"
   ]
  },
  {
   "cell_type": "code",
   "execution_count": 45,
   "metadata": {},
   "outputs": [
    {
     "name": "stdout",
     "output_type": "stream",
     "text": [
      "\u001b[1m\u001b[95mFunction implemented to treat outliers.\n"
     ]
    }
   ],
   "source": [
    "def cap_data(df):\n",
    "    for col in df.columns:\n",
    "        \n",
    "        \n",
    "        if (((df[col].dtype)=='float64') | ((df[col].dtype)=='int32')):\n",
    "    \n",
    "            Q1=df[col].quantile(0.25)\n",
    "            Q3=df[col].quantile(0.75)\n",
    "            IQR=Q3-Q1\n",
    "            lr = Q1-1.5*IQR\n",
    "            ur = Q3+1.5*IQR\n",
    "            df[col]=np.where(df[col]>ur,ur,df[col])\n",
    "            df[col]=np.where(df[col]<lr,lr,df[col])\n",
    "\n",
    "        else:\n",
    "            df[col]=df[col]\n",
    "    return df\n",
    "final_df=cap_data(Train)\n",
    "final_df=cap_data(Test)\n",
    "print(color.BOLD+color.PURPLE+'Function implemented to treat outliers.')\n"
   ]
  },
  {
   "cell_type": "code",
   "execution_count": 46,
   "metadata": {},
   "outputs": [
    {
     "data": {
      "text/html": [
       "<div>\n",
       "<style scoped>\n",
       "    .dataframe tbody tr th:only-of-type {\n",
       "        vertical-align: middle;\n",
       "    }\n",
       "\n",
       "    .dataframe tbody tr th {\n",
       "        vertical-align: top;\n",
       "    }\n",
       "\n",
       "    .dataframe thead th {\n",
       "        text-align: right;\n",
       "    }\n",
       "</style>\n",
       "<table border=\"1\" class=\"dataframe\">\n",
       "  <thead>\n",
       "    <tr style=\"text-align: right;\">\n",
       "      <th></th>\n",
       "      <th>Types</th>\n",
       "      <th>Outliers</th>\n",
       "    </tr>\n",
       "  </thead>\n",
       "  <tbody>\n",
       "    <tr>\n",
       "      <th>Pclass</th>\n",
       "      <td>int64</td>\n",
       "      <td>0</td>\n",
       "    </tr>\n",
       "    <tr>\n",
       "      <th>Sex</th>\n",
       "      <td>int8</td>\n",
       "      <td>0</td>\n",
       "    </tr>\n",
       "    <tr>\n",
       "      <th>Age</th>\n",
       "      <td>float64</td>\n",
       "      <td>0</td>\n",
       "    </tr>\n",
       "    <tr>\n",
       "      <th>SibSp</th>\n",
       "      <td>int64</td>\n",
       "      <td>0</td>\n",
       "    </tr>\n",
       "    <tr>\n",
       "      <th>Parch</th>\n",
       "      <td>int64</td>\n",
       "      <td>0</td>\n",
       "    </tr>\n",
       "    <tr>\n",
       "      <th>Ticket</th>\n",
       "      <td>int16</td>\n",
       "      <td>0</td>\n",
       "    </tr>\n",
       "    <tr>\n",
       "      <th>Fare</th>\n",
       "      <td>float64</td>\n",
       "      <td>0</td>\n",
       "    </tr>\n",
       "    <tr>\n",
       "      <th>Cabin</th>\n",
       "      <td>int8</td>\n",
       "      <td>0</td>\n",
       "    </tr>\n",
       "    <tr>\n",
       "      <th>Embarked</th>\n",
       "      <td>int8</td>\n",
       "      <td>0</td>\n",
       "    </tr>\n",
       "  </tbody>\n",
       "</table>\n",
       "</div>"
      ],
      "text/plain": [
       "            Types  Outliers\n",
       "Pclass      int64         0\n",
       "Sex          int8         0\n",
       "Age       float64         0\n",
       "SibSp       int64         0\n",
       "Parch       int64         0\n",
       "Ticket      int16         0\n",
       "Fare      float64         0\n",
       "Cabin        int8         0\n",
       "Embarked     int8         0"
      ]
     },
     "execution_count": 46,
     "metadata": {},
     "output_type": "execute_result"
    }
   ],
   "source": [
    "list_of_numerics=Train.select_dtypes(include=['float','int32']).columns\n",
    "types= Test.dtypes\n",
    "overview= Test.apply(lambda x: [round(x.min()), \n",
    "                                 round(x.max()), \n",
    "                                 round(x.mean()), \n",
    "                                 round(x.quantile(0.5))] if x.name in list_of_numerics else x.unique())\n",
    "\n",
    "outliers= Test.apply(lambda x: sum(\n",
    "                                 (x<(x.quantile(0.25)-1.5*(x.quantile(0.75)-x.quantile(0.25))))|\n",
    "                                 (x>(x.quantile(0.75)+1.5*(x.quantile(0.75)-x.quantile(0.25))))\n",
    "                                 if x.name in list_of_numerics else ''))\n",
    "\n",
    "\n",
    "explo = pd.DataFrame({'Types': types,\n",
    "                      'Outliers': outliers})\n",
    "explo\n"
   ]
  },
  {
   "cell_type": "code",
   "execution_count": 47,
   "metadata": {},
   "outputs": [],
   "source": [
    "# Copy all the predictor variables into X dataframe\n",
    "X_train_wo = Train.drop('Survived', axis=1)\n",
    "\n",
    "# Copy target into the y dataframe. \n",
    "y_train_wo = Train['Survived']"
   ]
  },
  {
   "cell_type": "code",
   "execution_count": 48,
   "metadata": {},
   "outputs": [
    {
     "name": "stdout",
     "output_type": "stream",
     "text": [
      "\u001b[1m\u001b[95mData is split as independent and dependent variables into training and test set in 70:30 ratio:\n",
      "\n",
      "\n",
      "\u001b[1m\u001b[95mNumber of rows and columns of the training set for the independent variables: (891, 9)\n",
      "\u001b[1m\u001b[95mNumber of rows and columns of the training set for the dependent variable: (891,)\n",
      "\u001b[1m\u001b[95mNumber of rows and columns of the test set for the independent variables: (418, 9)\n"
     ]
    }
   ],
   "source": [
    "print(color.BOLD+color.PURPLE+'Data is split as independent and dependent variables into training and test set in 70:30 ratio:')\n",
    "print(\"\\n\")\n",
    "print(color.BOLD+color.PURPLE+'Number of rows and columns of the training set for the independent variables:',X_train_wo.shape)\n",
    "print(color.BOLD+color.PURPLE+'Number of rows and columns of the training set for the dependent variable:',y_train_wo.shape)\n",
    "print(color.BOLD+color.PURPLE+'Number of rows and columns of the test set for the independent variables:',Test.shape)\n"
   ]
  },
  {
   "cell_type": "code",
   "execution_count": 49,
   "metadata": {},
   "outputs": [],
   "source": [
    "param_grid = {\n",
    "    \n",
    "#Parameters used initially :\n",
    "\n",
    "    #'max_depth': [5,10,15,20],\n",
    "    #'max_features': [4,6,8,10],\n",
    "    #'min_samples_leaf': [3,5,10],\n",
    "    #'min_samples_split': [20,50,100],\n",
    "    #'n_estimators': [100,200]\n",
    "\n",
    "#Parameters finalized after obtaining best parameters:\n",
    "\n",
    "'max_depth': [5,10,20],\n",
    "    'max_features': [4,6],\n",
    "    'min_samples_leaf': [4,6],\n",
    "    'min_samples_split': [20,30,50],\n",
    "    'n_estimators': [100]\n",
    "}\n",
    "rfcl = RandomForestClassifier(random_state=42)\n",
    "\n",
    "grid_search_rfcl_wo = GridSearchCV(estimator = rfcl, param_grid = param_grid, cv = 10)\n"
   ]
  },
  {
   "cell_type": "code",
   "execution_count": 50,
   "metadata": {},
   "outputs": [
    {
     "name": "stdout",
     "output_type": "stream",
     "text": [
      "\u001b[1m\u001b[36mParameter used to build Cart model:\n"
     ]
    },
    {
     "data": {
      "text/plain": [
       "GridSearchCV(cv=10, estimator=RandomForestClassifier(random_state=42),\n",
       "             param_grid={'max_depth': [5, 10, 20], 'max_features': [4, 6],\n",
       "                         'min_samples_leaf': [4, 6],\n",
       "                         'min_samples_split': [20, 30, 50],\n",
       "                         'n_estimators': [100]})"
      ]
     },
     "execution_count": 50,
     "metadata": {},
     "output_type": "execute_result"
    }
   ],
   "source": [
    "print(color.BOLD+color.DARKCYAN+'Parameter used to build Cart model:')\n",
    "grid_search_rfcl_wo.fit(X_train_wo, y_train_wo)"
   ]
  },
  {
   "cell_type": "code",
   "execution_count": 51,
   "metadata": {},
   "outputs": [
    {
     "name": "stdout",
     "output_type": "stream",
     "text": [
      "\u001b[1m\u001b[36mParameter finzilzed and applied to build to Cart model:\n",
      "{'max_depth': 20, 'max_features': 6, 'min_samples_leaf': 6, 'min_samples_split': 20, 'n_estimators': 100}\n"
     ]
    },
    {
     "data": {
      "text/plain": [
       "RandomForestClassifier(max_depth=20, max_features=6, min_samples_leaf=6,\n",
       "                       min_samples_split=20, random_state=42)"
      ]
     },
     "execution_count": 51,
     "metadata": {},
     "output_type": "execute_result"
    }
   ],
   "source": [
    "print(color.BOLD+color.DARKCYAN+'Parameter finzilzed and applied to build to Cart model:')\n",
    "print(grid_search_rfcl_wo.best_params_)\n",
    "best_grid_dt_wo = grid_search_rfcl_wo.best_estimator_\n",
    "best_grid_dt_wo"
   ]
  },
  {
   "cell_type": "code",
   "execution_count": 52,
   "metadata": {},
   "outputs": [
    {
     "name": "stdout",
     "output_type": "stream",
     "text": [
      "\u001b[1mVariable Importance:\n",
      "\n",
      "\u001b[1m\u001b[36m                Imp\n",
      "Sex       0.459532\n",
      "Pclass    0.117339\n",
      "Ticket    0.114177\n",
      "Fare      0.101573\n",
      "Age       0.099820\n",
      "Cabin     0.060838\n",
      "SibSp     0.018123\n",
      "Embarked  0.016694\n",
      "Parch     0.011905\n"
     ]
    }
   ],
   "source": [
    "print(color.BOLD+'Variable Importance:\\n')\n",
    "print (color.BOLD+color.DARKCYAN,pd.DataFrame(best_grid_dt_wo.feature_importances_,columns = [\"Imp\"], index = X_train_wo.columns).sort_values('Imp',ascending=False))\n"
   ]
  },
  {
   "cell_type": "code",
   "execution_count": 53,
   "metadata": {},
   "outputs": [],
   "source": [
    "ytrain_predict_wo = best_grid_dt_wo.predict(X_train_wo)\n",
    "ytest_predict_wo = best_grid_dt_wo.predict(Test)"
   ]
  },
  {
   "cell_type": "code",
   "execution_count": 54,
   "metadata": {},
   "outputs": [
    {
     "name": "stdout",
     "output_type": "stream",
     "text": [
      "\u001b[1mRandom Forest Train data metrices:\n",
      "\n",
      "\u001b[1m\u001b[36mRF Train Precision 0.91\n",
      "\u001b[1m\u001b[36mRF Train Recall 0.76\n",
      "\u001b[1m\u001b[36mRF Train F1 score  0.83\n"
     ]
    }
   ],
   "source": [
    "rf_metrics=classification_report(y_train_wo, ytrain_predict_wo,output_dict=True)\n",
    "\n",
    "df=pd.DataFrame(rf_metrics).transpose()\n",
    "rf_train_precisionn_wo=round(df.loc[\"1\"][0],2)\n",
    "rf_train_recalln_wo=round(df.loc[\"1\"][1],2)\n",
    "rf_train_f1n_wo=round(df.loc[\"1\"][2],2)\n",
    "print(color.BOLD+'Random Forest Train data metrices:\\n')\n",
    "print (color.BOLD+color.DARKCYAN+'RF Train Precision',rf_train_precisionn_wo)\n",
    "print (color.BOLD+color.DARKCYAN+'RF Train Recall',rf_train_recalln_wo)\n",
    "print (color.BOLD+color.DARKCYAN+'RF Train F1 score ',rf_train_f1n_wo)"
   ]
  },
  {
   "cell_type": "code",
   "execution_count": 55,
   "metadata": {},
   "outputs": [
    {
     "name": "stdout",
     "output_type": "stream",
     "text": [
      "\u001b[1m\u001b[36mGetting the Predicted Classes and Probs:\n"
     ]
    },
    {
     "data": {
      "text/html": [
       "<div>\n",
       "<style scoped>\n",
       "    .dataframe tbody tr th:only-of-type {\n",
       "        vertical-align: middle;\n",
       "    }\n",
       "\n",
       "    .dataframe tbody tr th {\n",
       "        vertical-align: top;\n",
       "    }\n",
       "\n",
       "    .dataframe thead th {\n",
       "        text-align: right;\n",
       "    }\n",
       "</style>\n",
       "<table border=\"1\" class=\"dataframe\">\n",
       "  <thead>\n",
       "    <tr style=\"text-align: right;\">\n",
       "      <th></th>\n",
       "      <th>0</th>\n",
       "      <th>1</th>\n",
       "    </tr>\n",
       "  </thead>\n",
       "  <tbody>\n",
       "    <tr>\n",
       "      <th>0</th>\n",
       "      <td>0.870053</td>\n",
       "      <td>0.129947</td>\n",
       "    </tr>\n",
       "    <tr>\n",
       "      <th>1</th>\n",
       "      <td>0.429168</td>\n",
       "      <td>0.570832</td>\n",
       "    </tr>\n",
       "    <tr>\n",
       "      <th>2</th>\n",
       "      <td>0.856974</td>\n",
       "      <td>0.143026</td>\n",
       "    </tr>\n",
       "    <tr>\n",
       "      <th>3</th>\n",
       "      <td>0.777617</td>\n",
       "      <td>0.222383</td>\n",
       "    </tr>\n",
       "    <tr>\n",
       "      <th>4</th>\n",
       "      <td>0.396285</td>\n",
       "      <td>0.603715</td>\n",
       "    </tr>\n",
       "  </tbody>\n",
       "</table>\n",
       "</div>"
      ],
      "text/plain": [
       "          0         1\n",
       "0  0.870053  0.129947\n",
       "1  0.429168  0.570832\n",
       "2  0.856974  0.143026\n",
       "3  0.777617  0.222383\n",
       "4  0.396285  0.603715"
      ]
     },
     "execution_count": 55,
     "metadata": {},
     "output_type": "execute_result"
    }
   ],
   "source": [
    "print(color.BOLD+color.DARKCYAN+'Getting the Predicted Classes and Probs:')\n",
    "ytest_predict_wo\n",
    "ytest_predict_prob_wo=best_grid_dt_wo.predict_proba(Test)\n",
    "ytest_predict_prob_wo\n",
    "pd.DataFrame(ytest_predict_prob_wo).head()"
   ]
  },
  {
   "cell_type": "code",
   "execution_count": 56,
   "metadata": {},
   "outputs": [
    {
     "data": {
      "text/plain": [
       "87.88"
      ]
     },
     "execution_count": 56,
     "metadata": {},
     "output_type": "execute_result"
    }
   ],
   "source": [
    "acc_decision_tree_wo = round(best_grid_dt_wo.score(X_train_wo, y_train_wo) * 100, 2)\n",
    "acc_decision_tree_wo"
   ]
  },
  {
   "cell_type": "markdown",
   "metadata": {},
   "source": [
    "CART WITH SKEWNESS REMOVED"
   ]
  },
  {
   "cell_type": "code",
   "execution_count": 57,
   "metadata": {},
   "outputs": [],
   "source": [
    "# Copy all the predictor variables into X dataframe\n",
    "X_train_wos = Train.drop('Survived', axis=1)\n",
    "\n",
    "# Copy target into the y dataframe. \n",
    "y_train_wos = Train['Survived']"
   ]
  },
  {
   "cell_type": "code",
   "execution_count": 58,
   "metadata": {},
   "outputs": [
    {
     "data": {
      "text/plain": [
       "Pclass     -0.630548\n",
       "Sex        -0.618921\n",
       "Age         0.164436\n",
       "SibSp       3.695352\n",
       "Parch       2.749117\n",
       "Ticket      0.000246\n",
       "Fare        1.082179\n",
       "Cabin       2.099238\n",
       "Embarked   -1.270634\n",
       "dtype: float64"
      ]
     },
     "execution_count": 58,
     "metadata": {},
     "output_type": "execute_result"
    }
   ],
   "source": [
    "X_train_wos.skew(axis = 0)"
   ]
  },
  {
   "cell_type": "code",
   "execution_count": 59,
   "metadata": {},
   "outputs": [
    {
     "data": {
      "text/plain": [
       "Pclass     -0.534170\n",
       "Sex        -0.568991\n",
       "Age         0.453769\n",
       "SibSp       4.168337\n",
       "Parch       4.654462\n",
       "Ticket     -0.013203\n",
       "Fare        1.089267\n",
       "Cabin       2.253245\n",
       "Embarked   -0.873825\n",
       "dtype: float64"
      ]
     },
     "execution_count": 59,
     "metadata": {},
     "output_type": "execute_result"
    }
   ],
   "source": [
    "Test.skew(axis = 0)"
   ]
  },
  {
   "cell_type": "code",
   "execution_count": 60,
   "metadata": {},
   "outputs": [],
   "source": [
    "from sklearn.preprocessing import power_transform\n",
    "X_train_wos=pd.DataFrame(power_transform(X_train_wos))"
   ]
  },
  {
   "cell_type": "code",
   "execution_count": 61,
   "metadata": {},
   "outputs": [],
   "source": [
    "from sklearn.preprocessing import power_transform\n",
    "Test=pd.DataFrame(power_transform(Test))"
   ]
  },
  {
   "cell_type": "code",
   "execution_count": 62,
   "metadata": {},
   "outputs": [
    {
     "name": "stdout",
     "output_type": "stream",
     "text": [
      "\u001b[1m\u001b[95mData is split as independent and dependent variables into training and test set in 70:30 ratio:\n",
      "\n",
      "\n",
      "\u001b[1m\u001b[95mNumber of rows and columns of the training set for the independent variables: (891, 9)\n",
      "\u001b[1m\u001b[95mNumber of rows and columns of the training set for the dependent variable: (891,)\n",
      "\u001b[1m\u001b[95mNumber of rows and columns of the test set for the independent variables: (418, 9)\n"
     ]
    }
   ],
   "source": [
    "print(color.BOLD+color.PURPLE+'Data is split as independent and dependent variables into training and test set in 70:30 ratio:')\n",
    "print(\"\\n\")\n",
    "print(color.BOLD+color.PURPLE+'Number of rows and columns of the training set for the independent variables:',X_train_wos.shape)\n",
    "print(color.BOLD+color.PURPLE+'Number of rows and columns of the training set for the dependent variable:',y_train_wos.shape)\n",
    "print(color.BOLD+color.PURPLE+'Number of rows and columns of the test set for the independent variables:',Test.shape)\n"
   ]
  },
  {
   "cell_type": "code",
   "execution_count": 63,
   "metadata": {},
   "outputs": [],
   "source": [
    "param_grid = {\n",
    "    \n",
    "#Parameters used initially :\n",
    "\n",
    "    #'max_depth': [5,10,15,20],\n",
    "    #'max_features': [4,6,8,10],\n",
    "    #'min_samples_leaf': [3,5,10],\n",
    "    #'min_samples_split': [20,50,100],\n",
    "    #'n_estimators': [100,200]\n",
    "\n",
    "#Parameters finalized after obtaining best parameters:\n",
    "\n",
    "'max_depth': [5,10,20],\n",
    "    'max_features': [4,6],\n",
    "    'min_samples_leaf': [4,6],\n",
    "    'min_samples_split': [20,30,50],\n",
    "    'n_estimators': [100]\n",
    "}\n",
    "rfcl = RandomForestClassifier(random_state=42)\n",
    "\n",
    "grid_search_rfcl_wos = GridSearchCV(estimator = rfcl, param_grid = param_grid, cv = 10)\n"
   ]
  },
  {
   "cell_type": "code",
   "execution_count": 64,
   "metadata": {
    "scrolled": true
   },
   "outputs": [
    {
     "name": "stdout",
     "output_type": "stream",
     "text": [
      "\u001b[1m\u001b[36mParameter used to build Cart model:\n"
     ]
    },
    {
     "data": {
      "text/plain": [
       "GridSearchCV(cv=10, estimator=RandomForestClassifier(random_state=42),\n",
       "             param_grid={'max_depth': [5, 10, 20], 'max_features': [4, 6],\n",
       "                         'min_samples_leaf': [4, 6],\n",
       "                         'min_samples_split': [20, 30, 50],\n",
       "                         'n_estimators': [100]})"
      ]
     },
     "execution_count": 64,
     "metadata": {},
     "output_type": "execute_result"
    }
   ],
   "source": [
    "print(color.BOLD+color.DARKCYAN+'Parameter used to build Cart model:')\n",
    "grid_search_rfcl_wos.fit(X_train_wos, y_train_wos)"
   ]
  },
  {
   "cell_type": "code",
   "execution_count": 65,
   "metadata": {},
   "outputs": [
    {
     "name": "stdout",
     "output_type": "stream",
     "text": [
      "\u001b[1m\u001b[36mParameter finzilzed and applied to build to Cart model:\n",
      "{'max_depth': 20, 'max_features': 6, 'min_samples_leaf': 6, 'min_samples_split': 20, 'n_estimators': 100}\n"
     ]
    },
    {
     "data": {
      "text/plain": [
       "RandomForestClassifier(max_depth=20, max_features=6, min_samples_leaf=6,\n",
       "                       min_samples_split=20, random_state=42)"
      ]
     },
     "execution_count": 65,
     "metadata": {},
     "output_type": "execute_result"
    }
   ],
   "source": [
    "print(color.BOLD+color.DARKCYAN+'Parameter finzilzed and applied to build to Cart model:')\n",
    "print(grid_search_rfcl_wos.best_params_)\n",
    "best_grid_dt_wos = grid_search_rfcl_wos.best_estimator_\n",
    "best_grid_dt_wos"
   ]
  },
  {
   "cell_type": "code",
   "execution_count": 66,
   "metadata": {},
   "outputs": [
    {
     "name": "stdout",
     "output_type": "stream",
     "text": [
      "\u001b[1mVariable Importance:\n",
      "\n",
      "\u001b[1m\u001b[36m         Imp\n",
      "1  0.459532\n",
      "0  0.117339\n",
      "5  0.114177\n",
      "6  0.101573\n",
      "2  0.099820\n",
      "7  0.060838\n",
      "3  0.018123\n",
      "8  0.016694\n",
      "4  0.011905\n"
     ]
    }
   ],
   "source": [
    "print(color.BOLD+'Variable Importance:\\n')\n",
    "print (color.BOLD+color.DARKCYAN,pd.DataFrame(best_grid_dt_wos.feature_importances_,columns = [\"Imp\"], index = X_train_wos.columns).sort_values('Imp',ascending=False))\n"
   ]
  },
  {
   "cell_type": "code",
   "execution_count": 67,
   "metadata": {},
   "outputs": [],
   "source": [
    "ytrain_predict_wos = best_grid_dt_wos.predict(X_train_wos)\n",
    "ytest_predict_wos = best_grid_dt_wos.predict(Test)"
   ]
  },
  {
   "cell_type": "code",
   "execution_count": 68,
   "metadata": {},
   "outputs": [
    {
     "name": "stdout",
     "output_type": "stream",
     "text": [
      "\u001b[1mRandom Forest Train data metrices:\n",
      "\n",
      "\u001b[1m\u001b[36mRF Train Precision 0.91\n",
      "\u001b[1m\u001b[36mRF Train Recall 0.76\n",
      "\u001b[1m\u001b[36mRF Train F1 score  0.83\n"
     ]
    }
   ],
   "source": [
    "rf_metrics=classification_report(y_train_wos, ytrain_predict_wos,output_dict=True)\n",
    "\n",
    "df=pd.DataFrame(rf_metrics).transpose()\n",
    "rf_train_precisionn_wos=round(df.loc[\"1\"][0],2)\n",
    "rf_train_recalln_wos=round(df.loc[\"1\"][1],2)\n",
    "rf_train_f1n_wos=round(df.loc[\"1\"][2],2)\n",
    "print(color.BOLD+'Random Forest Train data metrices:\\n')\n",
    "print (color.BOLD+color.DARKCYAN+'RF Train Precision',rf_train_precisionn_wos)\n",
    "print (color.BOLD+color.DARKCYAN+'RF Train Recall',rf_train_recalln_wos)\n",
    "print (color.BOLD+color.DARKCYAN+'RF Train F1 score ',rf_train_f1n_wos)"
   ]
  },
  {
   "cell_type": "code",
   "execution_count": 69,
   "metadata": {},
   "outputs": [
    {
     "name": "stdout",
     "output_type": "stream",
     "text": [
      "\u001b[1m\u001b[36mGetting the Predicted Classes and Probs:\n"
     ]
    },
    {
     "data": {
      "text/html": [
       "<div>\n",
       "<style scoped>\n",
       "    .dataframe tbody tr th:only-of-type {\n",
       "        vertical-align: middle;\n",
       "    }\n",
       "\n",
       "    .dataframe tbody tr th {\n",
       "        vertical-align: top;\n",
       "    }\n",
       "\n",
       "    .dataframe thead th {\n",
       "        text-align: right;\n",
       "    }\n",
       "</style>\n",
       "<table border=\"1\" class=\"dataframe\">\n",
       "  <thead>\n",
       "    <tr style=\"text-align: right;\">\n",
       "      <th></th>\n",
       "      <th>0</th>\n",
       "      <th>1</th>\n",
       "    </tr>\n",
       "  </thead>\n",
       "  <tbody>\n",
       "    <tr>\n",
       "      <th>0</th>\n",
       "      <td>0.977299</td>\n",
       "      <td>0.022701</td>\n",
       "    </tr>\n",
       "    <tr>\n",
       "      <th>1</th>\n",
       "      <td>0.539163</td>\n",
       "      <td>0.460837</td>\n",
       "    </tr>\n",
       "    <tr>\n",
       "      <th>2</th>\n",
       "      <td>0.921966</td>\n",
       "      <td>0.078034</td>\n",
       "    </tr>\n",
       "    <tr>\n",
       "      <th>3</th>\n",
       "      <td>0.850917</td>\n",
       "      <td>0.149083</td>\n",
       "    </tr>\n",
       "    <tr>\n",
       "      <th>4</th>\n",
       "      <td>0.520926</td>\n",
       "      <td>0.479074</td>\n",
       "    </tr>\n",
       "  </tbody>\n",
       "</table>\n",
       "</div>"
      ],
      "text/plain": [
       "          0         1\n",
       "0  0.977299  0.022701\n",
       "1  0.539163  0.460837\n",
       "2  0.921966  0.078034\n",
       "3  0.850917  0.149083\n",
       "4  0.520926  0.479074"
      ]
     },
     "execution_count": 69,
     "metadata": {},
     "output_type": "execute_result"
    }
   ],
   "source": [
    "print(color.BOLD+color.DARKCYAN+'Getting the Predicted Classes and Probs:')\n",
    "ytest_predict_wos\n",
    "ytest_predict_prob_wos=grid_search_rfcl_wos.predict_proba(Test)\n",
    "ytest_predict_prob_wos\n",
    "pd.DataFrame(ytest_predict_prob_wos).head()"
   ]
  },
  {
   "cell_type": "code",
   "execution_count": 70,
   "metadata": {
    "scrolled": true
   },
   "outputs": [
    {
     "data": {
      "text/plain": [
       "87.88"
      ]
     },
     "execution_count": 70,
     "metadata": {},
     "output_type": "execute_result"
    }
   ],
   "source": [
    "acc_decision_tree_wos = round(best_grid_dt_wos.score(X_train_wos, y_train_wos) * 100, 2)\n",
    "acc_decision_tree_wos"
   ]
  },
  {
   "cell_type": "markdown",
   "metadata": {},
   "source": [
    "CART WITH balanced"
   ]
  },
  {
   "cell_type": "code",
   "execution_count": 71,
   "metadata": {},
   "outputs": [
    {
     "name": "stdout",
     "output_type": "stream",
     "text": [
      "\u001b[1m\u001b[36m 0    549\n",
      "1    342\n",
      "Name: Survived, dtype: int64\n",
      "%1s 0.668600623484586\n",
      "%0s 0.3313993765154139\n"
     ]
    }
   ],
   "source": [
    "print(color.BOLD+color.DARKCYAN,Train.Survived.value_counts())\n",
    "print('%1s',7721/(7721+3827))\n",
    "print('%0s',3827/(7721+3827))"
   ]
  },
  {
   "cell_type": "code",
   "execution_count": 72,
   "metadata": {},
   "outputs": [],
   "source": [
    "# Copy all the predictor variables into X dataframe\n",
    "X_train_wos = Train.drop('Survived', axis=1)\n",
    "\n",
    "# Copy target into the y dataframe. \n",
    "y_train_wos = Train['Survived']"
   ]
  },
  {
   "cell_type": "code",
   "execution_count": 73,
   "metadata": {},
   "outputs": [
    {
     "name": "stdout",
     "output_type": "stream",
     "text": [
      "\u001b[1m\u001b[95mData is split as independent and dependent variables into training and test set in 70:30 ratio:\n",
      "\n",
      "\n",
      "\u001b[1m\u001b[95mNumber of rows and columns of the training set for the independent variables: (891, 9)\n",
      "\u001b[1m\u001b[95mNumber of rows and columns of the training set for the dependent variable: (891,)\n",
      "\u001b[1m\u001b[95mNumber of rows and columns of the test set for the independent variables: (418, 9)\n"
     ]
    }
   ],
   "source": [
    "print(color.BOLD+color.PURPLE+'Data is split as independent and dependent variables into training and test set in 70:30 ratio:')\n",
    "print(\"\\n\")\n",
    "print(color.BOLD+color.PURPLE+'Number of rows and columns of the training set for the independent variables:',X_train_wos.shape)\n",
    "print(color.BOLD+color.PURPLE+'Number of rows and columns of the training set for the dependent variable:',y_train_wos.shape)\n",
    "print(color.BOLD+color.PURPLE+'Number of rows and columns of the test set for the independent variables:',Test.shape)\n"
   ]
  },
  {
   "cell_type": "code",
   "execution_count": 74,
   "metadata": {},
   "outputs": [],
   "source": [
    "from imblearn.over_sampling import SMOTE\n",
    "\n",
    "from sklearn.model_selection import train_test_split\n",
    "sm = SMOTE(random_state=2)\n",
    "X_train_res, y_train_res = sm.fit_sample(X_train_wos, y_train_wos.ravel())"
   ]
  },
  {
   "cell_type": "code",
   "execution_count": 75,
   "metadata": {},
   "outputs": [
    {
     "name": "stdout",
     "output_type": "stream",
     "text": [
      "After OverSampling, the shape of train_X: (1098, 9)\n",
      "After OverSampling, the shape of train_y: (1098,) \n",
      "\n",
      "After OverSampling, counts of label '1': 549\n",
      "After OverSampling, counts of label '0': 549\n"
     ]
    }
   ],
   "source": [
    "print('After OverSampling, the shape of train_X: {}'.format(X_train_res.shape))\n",
    "print('After OverSampling, the shape of train_y: {} \\n'.format(y_train_res.shape))\n",
    "\n",
    "print(\"After OverSampling, counts of label '1': {}\".format(sum(y_train_res==1)))\n",
    "print(\"After OverSampling, counts of label '0': {}\".format(sum(y_train_res==0)))"
   ]
  },
  {
   "cell_type": "code",
   "execution_count": 76,
   "metadata": {},
   "outputs": [],
   "source": [
    "param_grid = {\n",
    "    \n",
    "#Parameters used initially :\n",
    "\n",
    "    #'max_depth': [5,10,15,20],\n",
    "    #'max_features': [4,6,8,10],\n",
    "    #'min_samples_leaf': [3,5,10],\n",
    "    #'min_samples_split': [20,50,100],\n",
    "    #'n_estimators': [100,200]\n",
    "\n",
    "#Parameters finalized after obtaining best parameters:\n",
    "\n",
    "'max_depth': [5,10,20],\n",
    "    'max_features': [4,6],\n",
    "    'min_samples_leaf': [4,6],\n",
    "    'min_samples_split': [20,30,50],\n",
    "    'n_estimators': [100]\n",
    "}\n",
    "rfcl = RandomForestClassifier(random_state=42)\n",
    "\n",
    "grid_search_rfcl_wob= GridSearchCV(estimator = rfcl, param_grid = param_grid, cv = 10)\n"
   ]
  },
  {
   "cell_type": "code",
   "execution_count": 77,
   "metadata": {
    "scrolled": true
   },
   "outputs": [
    {
     "name": "stdout",
     "output_type": "stream",
     "text": [
      "\u001b[1m\u001b[36mParameter used to build Cart model:\n"
     ]
    },
    {
     "data": {
      "text/plain": [
       "GridSearchCV(cv=10, estimator=RandomForestClassifier(random_state=42),\n",
       "             param_grid={'max_depth': [5, 10, 20], 'max_features': [4, 6],\n",
       "                         'min_samples_leaf': [4, 6],\n",
       "                         'min_samples_split': [20, 30, 50],\n",
       "                         'n_estimators': [100]})"
      ]
     },
     "execution_count": 77,
     "metadata": {},
     "output_type": "execute_result"
    }
   ],
   "source": [
    "print(color.BOLD+color.DARKCYAN+'Parameter used to build Cart model:')\n",
    "grid_search_rfcl_wob.fit(X_train_res, y_train_res)"
   ]
  },
  {
   "cell_type": "code",
   "execution_count": 78,
   "metadata": {},
   "outputs": [
    {
     "name": "stdout",
     "output_type": "stream",
     "text": [
      "\u001b[1m\u001b[36mParameter finzilzed and applied to build to Cart model:\n",
      "{'max_depth': 20, 'max_features': 4, 'min_samples_leaf': 4, 'min_samples_split': 20, 'n_estimators': 100}\n"
     ]
    },
    {
     "data": {
      "text/plain": [
       "RandomForestClassifier(max_depth=20, max_features=4, min_samples_leaf=4,\n",
       "                       min_samples_split=20, random_state=42)"
      ]
     },
     "execution_count": 78,
     "metadata": {},
     "output_type": "execute_result"
    }
   ],
   "source": [
    "print(color.BOLD+color.DARKCYAN+'Parameter finzilzed and applied to build to Cart model:')\n",
    "print(grid_search_rfcl_wob.best_params_)\n",
    "best_grid_dt_wob = grid_search_rfcl_wob.best_estimator_\n",
    "best_grid_dt_wob"
   ]
  },
  {
   "cell_type": "code",
   "execution_count": 79,
   "metadata": {},
   "outputs": [
    {
     "name": "stdout",
     "output_type": "stream",
     "text": [
      "\u001b[1mVariable Importance:\n",
      "\n",
      "\u001b[1m\u001b[36m                Imp\n",
      "Sex       0.485461\n",
      "Ticket    0.114147\n",
      "Fare      0.100568\n",
      "Pclass    0.093896\n",
      "Age       0.085918\n",
      "Cabin     0.049566\n",
      "SibSp     0.028244\n",
      "Parch     0.021152\n",
      "Embarked  0.021047\n"
     ]
    }
   ],
   "source": [
    "print(color.BOLD+'Variable Importance:\\n')\n",
    "print (color.BOLD+color.DARKCYAN,pd.DataFrame(best_grid_dt_wob.feature_importances_,columns = [\"Imp\"], index = X_train_res.columns).sort_values('Imp',ascending=False))\n"
   ]
  },
  {
   "cell_type": "code",
   "execution_count": 80,
   "metadata": {},
   "outputs": [],
   "source": [
    "ytrain_predict_wob = best_grid_dt_wob.predict(X_train_res)\n",
    "ytest_predict_wob = best_grid_dt_wob.predict(Test)"
   ]
  },
  {
   "cell_type": "code",
   "execution_count": 81,
   "metadata": {},
   "outputs": [
    {
     "name": "stdout",
     "output_type": "stream",
     "text": [
      "\u001b[1mRandom Forest Train data metrices:\n",
      "\n",
      "\u001b[1m\u001b[36mRF Train Precision 0.91\n",
      "\u001b[1m\u001b[36mRF Train Recall 0.89\n",
      "\u001b[1m\u001b[36mRF Train F1 score  0.9\n"
     ]
    }
   ],
   "source": [
    "rf_metrics=classification_report(y_train_res, ytrain_predict_wob,output_dict=True)\n",
    "\n",
    "df=pd.DataFrame(rf_metrics).transpose()\n",
    "rf_train_precision_wob=round(df.loc[\"1\"][0],2)\n",
    "rf_train_recall_wob=round(df.loc[\"1\"][1],2)\n",
    "rf_train_f1_wob=round(df.loc[\"1\"][2],2)\n",
    "print(color.BOLD+'Random Forest Train data metrices:\\n')\n",
    "print (color.BOLD+color.DARKCYAN+'RF Train Precision',rf_train_precision_wob)\n",
    "print (color.BOLD+color.DARKCYAN+'RF Train Recall',rf_train_recall_wob)\n",
    "print (color.BOLD+color.DARKCYAN+'RF Train F1 score ',rf_train_f1_wob)"
   ]
  },
  {
   "cell_type": "code",
   "execution_count": 82,
   "metadata": {},
   "outputs": [
    {
     "name": "stdout",
     "output_type": "stream",
     "text": [
      "\u001b[1m\u001b[36mGetting the Predicted Classes and Probs:\n"
     ]
    },
    {
     "data": {
      "text/html": [
       "<div>\n",
       "<style scoped>\n",
       "    .dataframe tbody tr th:only-of-type {\n",
       "        vertical-align: middle;\n",
       "    }\n",
       "\n",
       "    .dataframe tbody tr th {\n",
       "        vertical-align: top;\n",
       "    }\n",
       "\n",
       "    .dataframe thead th {\n",
       "        text-align: right;\n",
       "    }\n",
       "</style>\n",
       "<table border=\"1\" class=\"dataframe\">\n",
       "  <thead>\n",
       "    <tr style=\"text-align: right;\">\n",
       "      <th></th>\n",
       "      <th>0</th>\n",
       "      <th>1</th>\n",
       "    </tr>\n",
       "  </thead>\n",
       "  <tbody>\n",
       "    <tr>\n",
       "      <th>0</th>\n",
       "      <td>0.418015</td>\n",
       "      <td>0.581985</td>\n",
       "    </tr>\n",
       "    <tr>\n",
       "      <th>1</th>\n",
       "      <td>0.162230</td>\n",
       "      <td>0.837770</td>\n",
       "    </tr>\n",
       "    <tr>\n",
       "      <th>2</th>\n",
       "      <td>0.418015</td>\n",
       "      <td>0.581985</td>\n",
       "    </tr>\n",
       "    <tr>\n",
       "      <th>3</th>\n",
       "      <td>0.428303</td>\n",
       "      <td>0.571697</td>\n",
       "    </tr>\n",
       "    <tr>\n",
       "      <th>4</th>\n",
       "      <td>0.175015</td>\n",
       "      <td>0.824985</td>\n",
       "    </tr>\n",
       "  </tbody>\n",
       "</table>\n",
       "</div>"
      ],
      "text/plain": [
       "          0         1\n",
       "0  0.418015  0.581985\n",
       "1  0.162230  0.837770\n",
       "2  0.418015  0.581985\n",
       "3  0.428303  0.571697\n",
       "4  0.175015  0.824985"
      ]
     },
     "execution_count": 82,
     "metadata": {},
     "output_type": "execute_result"
    }
   ],
   "source": [
    "print(color.BOLD+color.DARKCYAN+'Getting the Predicted Classes and Probs:')\n",
    "ytest_predict_wob\n",
    "ytest_predict_prob_wob=best_grid_dt_wob.predict_proba(Test)\n",
    "ytest_predict_prob_wob\n",
    "pd.DataFrame(ytest_predict_prob_wob).head()"
   ]
  },
  {
   "cell_type": "code",
   "execution_count": 83,
   "metadata": {},
   "outputs": [
    {
     "data": {
      "text/plain": [
       "90.35"
      ]
     },
     "execution_count": 83,
     "metadata": {},
     "output_type": "execute_result"
    }
   ],
   "source": [
    "acc_decision_tree_wob = round(best_grid_dt_wob.score(X_train_res, y_train_res) * 100, 2)\n",
    "acc_decision_tree_wob"
   ]
  },
  {
   "cell_type": "code",
   "execution_count": 84,
   "metadata": {},
   "outputs": [
    {
     "data": {
      "text/html": [
       "<div>\n",
       "<style scoped>\n",
       "    .dataframe tbody tr th:only-of-type {\n",
       "        vertical-align: middle;\n",
       "    }\n",
       "\n",
       "    .dataframe tbody tr th {\n",
       "        vertical-align: top;\n",
       "    }\n",
       "\n",
       "    .dataframe thead th {\n",
       "        text-align: right;\n",
       "    }\n",
       "</style>\n",
       "<table border=\"1\" class=\"dataframe\">\n",
       "  <thead>\n",
       "    <tr style=\"text-align: right;\">\n",
       "      <th></th>\n",
       "      <th>CART</th>\n",
       "      <th>CART WO</th>\n",
       "      <th>CART WOS</th>\n",
       "      <th>CART WOB</th>\n",
       "    </tr>\n",
       "  </thead>\n",
       "  <tbody>\n",
       "    <tr>\n",
       "      <th>Accuracy</th>\n",
       "      <td>79.35</td>\n",
       "      <td>87.88</td>\n",
       "      <td>87.88</td>\n",
       "      <td>90.35</td>\n",
       "    </tr>\n",
       "    <tr>\n",
       "      <th>Recall</th>\n",
       "      <td>0.84</td>\n",
       "      <td>0.76</td>\n",
       "      <td>0.76</td>\n",
       "      <td>0.89</td>\n",
       "    </tr>\n",
       "    <tr>\n",
       "      <th>Precision</th>\n",
       "      <td>0.69</td>\n",
       "      <td>0.91</td>\n",
       "      <td>0.91</td>\n",
       "      <td>0.91</td>\n",
       "    </tr>\n",
       "    <tr>\n",
       "      <th>F1 Score</th>\n",
       "      <td>0.76</td>\n",
       "      <td>0.83</td>\n",
       "      <td>0.83</td>\n",
       "      <td>0.90</td>\n",
       "    </tr>\n",
       "  </tbody>\n",
       "</table>\n",
       "</div>"
      ],
      "text/plain": [
       "           CART   CART WO  CART WOS  CART WOB\n",
       "Accuracy   79.35    87.88     87.88     90.35\n",
       "Recall      0.84     0.76      0.76      0.89\n",
       "Precision   0.69     0.91      0.91      0.91\n",
       "F1 Score    0.76     0.83      0.83      0.90"
      ]
     },
     "execution_count": 84,
     "metadata": {},
     "output_type": "execute_result"
    }
   ],
   "source": [
    "\n",
    "index=['Accuracy',  'Recall','Precision','F1 Score']\n",
    "data = pd.DataFrame({\n",
    "        'CART ':[acc_decision_tree,rf_train_recall,rf_train_precision,rf_train_f1],\n",
    "        'CART WO':[acc_decision_tree_wo,rf_train_recalln_wo,rf_train_precisionn_wo,rf_train_f1n_wo],\n",
    "'CART WOS':[acc_decision_tree_wos,rf_train_recalln_wos,rf_train_precisionn_wos,rf_train_f1n_wos],\n",
    "'CART WOB':[acc_decision_tree_wob,rf_train_recall_wob,rf_train_precision_wob,rf_train_f1_wob]},index=index)\n",
    "round(data,2)"
   ]
  }
 ],
 "metadata": {
  "kernelspec": {
   "display_name": "Python 3",
   "language": "python",
   "name": "python3"
  },
  "language_info": {
   "codemirror_mode": {
    "name": "ipython",
    "version": 3
   },
   "file_extension": ".py",
   "mimetype": "text/x-python",
   "name": "python",
   "nbconvert_exporter": "python",
   "pygments_lexer": "ipython3",
   "version": "3.8.5"
  }
 },
 "nbformat": 4,
 "nbformat_minor": 4
}
